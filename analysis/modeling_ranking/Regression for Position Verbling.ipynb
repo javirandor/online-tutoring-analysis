{
 "cells": [
  {
   "cell_type": "code",
   "execution_count": 10,
   "metadata": {},
   "outputs": [],
   "source": [
    "import pandas as pd"
   ]
  },
  {
   "cell_type": "markdown",
   "metadata": {},
   "source": [
    "# Regression for Verbling position"
   ]
  },
  {
   "cell_type": "code",
   "execution_count": 11,
   "metadata": {},
   "outputs": [],
   "source": [
    "verbling = pd.read_csv('../../data/model_ranking/verbling.csv', index_col=0)"
   ]
  },
  {
   "cell_type": "code",
   "execution_count": 12,
   "metadata": {},
   "outputs": [
    {
     "data": {
      "text/plain": [
       "(2008, 10)"
      ]
     },
     "execution_count": 12,
     "metadata": {},
     "output_type": "execute_result"
    }
   ],
   "source": [
    "verbling.shape"
   ]
  },
  {
   "cell_type": "code",
   "execution_count": 13,
   "metadata": {},
   "outputs": [
    {
     "data": {
      "text/html": [
       "<div>\n",
       "<style scoped>\n",
       "    .dataframe tbody tr th:only-of-type {\n",
       "        vertical-align: middle;\n",
       "    }\n",
       "\n",
       "    .dataframe tbody tr th {\n",
       "        vertical-align: top;\n",
       "    }\n",
       "\n",
       "    .dataframe thead th {\n",
       "        text-align: right;\n",
       "    }\n",
       "</style>\n",
       "<table border=\"1\" class=\"dataframe\">\n",
       "  <thead>\n",
       "    <tr style=\"text-align: right;\">\n",
       "      <th></th>\n",
       "      <th>num_languages</th>\n",
       "      <th>speaks_english</th>\n",
       "      <th>gender_tuned</th>\n",
       "      <th>income_level</th>\n",
       "      <th>avg_lessons_per_students</th>\n",
       "      <th>num_ratings</th>\n",
       "      <th>avg_rating</th>\n",
       "      <th>price</th>\n",
       "      <th>first_letter</th>\n",
       "      <th>position</th>\n",
       "    </tr>\n",
       "  </thead>\n",
       "  <tbody>\n",
       "    <tr>\n",
       "      <th>266</th>\n",
       "      <td>7</td>\n",
       "      <td>1</td>\n",
       "      <td>1</td>\n",
       "      <td>-1.150639</td>\n",
       "      <td>27.6</td>\n",
       "      <td>388</td>\n",
       "      <td>4.975806</td>\n",
       "      <td>-0.349526</td>\n",
       "      <td>0.52</td>\n",
       "      <td>1</td>\n",
       "    </tr>\n",
       "    <tr>\n",
       "      <th>2115</th>\n",
       "      <td>3</td>\n",
       "      <td>1</td>\n",
       "      <td>0</td>\n",
       "      <td>-0.970265</td>\n",
       "      <td>14.8</td>\n",
       "      <td>143</td>\n",
       "      <td>4.976923</td>\n",
       "      <td>-0.349526</td>\n",
       "      <td>0.52</td>\n",
       "      <td>1</td>\n",
       "    </tr>\n",
       "    <tr>\n",
       "      <th>2004</th>\n",
       "      <td>6</td>\n",
       "      <td>1</td>\n",
       "      <td>1</td>\n",
       "      <td>0.635734</td>\n",
       "      <td>19.7</td>\n",
       "      <td>292</td>\n",
       "      <td>5.000000</td>\n",
       "      <td>4.713507</td>\n",
       "      <td>0.12</td>\n",
       "      <td>1</td>\n",
       "    </tr>\n",
       "    <tr>\n",
       "      <th>1719</th>\n",
       "      <td>2</td>\n",
       "      <td>1</td>\n",
       "      <td>0</td>\n",
       "      <td>-0.621931</td>\n",
       "      <td>44.7</td>\n",
       "      <td>92</td>\n",
       "      <td>5.000000</td>\n",
       "      <td>-0.462038</td>\n",
       "      <td>0.72</td>\n",
       "      <td>1</td>\n",
       "    </tr>\n",
       "    <tr>\n",
       "      <th>152</th>\n",
       "      <td>5</td>\n",
       "      <td>1</td>\n",
       "      <td>1</td>\n",
       "      <td>-0.211400</td>\n",
       "      <td>11.4</td>\n",
       "      <td>698</td>\n",
       "      <td>4.998400</td>\n",
       "      <td>0.100522</td>\n",
       "      <td>0.44</td>\n",
       "      <td>1</td>\n",
       "    </tr>\n",
       "  </tbody>\n",
       "</table>\n",
       "</div>"
      ],
      "text/plain": [
       "      num_languages  speaks_english  gender_tuned  income_level  \\\n",
       "266               7               1             1     -1.150639   \n",
       "2115              3               1             0     -0.970265   \n",
       "2004              6               1             1      0.635734   \n",
       "1719              2               1             0     -0.621931   \n",
       "152               5               1             1     -0.211400   \n",
       "\n",
       "      avg_lessons_per_students  num_ratings  avg_rating     price  \\\n",
       "266                       27.6          388    4.975806 -0.349526   \n",
       "2115                      14.8          143    4.976923 -0.349526   \n",
       "2004                      19.7          292    5.000000  4.713507   \n",
       "1719                      44.7           92    5.000000 -0.462038   \n",
       "152                       11.4          698    4.998400  0.100522   \n",
       "\n",
       "      first_letter  position  \n",
       "266           0.52         1  \n",
       "2115          0.52         1  \n",
       "2004          0.12         1  \n",
       "1719          0.72         1  \n",
       "152           0.44         1  "
      ]
     },
     "execution_count": 13,
     "metadata": {},
     "output_type": "execute_result"
    }
   ],
   "source": [
    "verbling.head()"
   ]
  },
  {
   "cell_type": "code",
   "execution_count": 14,
   "metadata": {},
   "outputs": [],
   "source": [
    "verbling = verbling[['num_languages', 'speaks_english', 'gender_tuned', 'income_level', 'avg_lessons_per_students', 'num_ratings', 'avg_rating', 'price', 'first_letter', 'position']]\n",
    "verbling.dropna(inplace=True)"
   ]
  },
  {
   "cell_type": "code",
   "execution_count": 15,
   "metadata": {},
   "outputs": [],
   "source": [
    "X = verbling[['num_languages', 'gender_tuned', 'income_level', 'avg_lessons_per_students', 'num_ratings', 'avg_rating', 'price', 'first_letter']].values\n",
    "y = verbling['position'].values"
   ]
  },
  {
   "cell_type": "code",
   "execution_count": 16,
   "metadata": {},
   "outputs": [
    {
     "data": {
      "text/html": [
       "<style  type=\"text/css\" >\n",
       "#T_644ed1a8_d727_11eb_9159_784f438242d1row0_col0,#T_644ed1a8_d727_11eb_9159_784f438242d1row1_col1,#T_644ed1a8_d727_11eb_9159_784f438242d1row2_col2,#T_644ed1a8_d727_11eb_9159_784f438242d1row3_col3,#T_644ed1a8_d727_11eb_9159_784f438242d1row4_col4,#T_644ed1a8_d727_11eb_9159_784f438242d1row5_col5,#T_644ed1a8_d727_11eb_9159_784f438242d1row6_col6,#T_644ed1a8_d727_11eb_9159_784f438242d1row7_col7,#T_644ed1a8_d727_11eb_9159_784f438242d1row8_col8,#T_644ed1a8_d727_11eb_9159_784f438242d1row9_col9{\n",
       "            background-color:  #b40426;\n",
       "            color:  #f1f1f1;\n",
       "        }#T_644ed1a8_d727_11eb_9159_784f438242d1row0_col1{\n",
       "            background-color:  #a7c5fe;\n",
       "            color:  #000000;\n",
       "        }#T_644ed1a8_d727_11eb_9159_784f438242d1row0_col2,#T_644ed1a8_d727_11eb_9159_784f438242d1row5_col8,#T_644ed1a8_d727_11eb_9159_784f438242d1row9_col4{\n",
       "            background-color:  #3d50c3;\n",
       "            color:  #f1f1f1;\n",
       "        }#T_644ed1a8_d727_11eb_9159_784f438242d1row0_col3,#T_644ed1a8_d727_11eb_9159_784f438242d1row1_col3,#T_644ed1a8_d727_11eb_9159_784f438242d1row7_col8,#T_644ed1a8_d727_11eb_9159_784f438242d1row8_col5,#T_644ed1a8_d727_11eb_9159_784f438242d1row9_col5{\n",
       "            background-color:  #4358cb;\n",
       "            color:  #f1f1f1;\n",
       "        }#T_644ed1a8_d727_11eb_9159_784f438242d1row0_col4{\n",
       "            background-color:  #5977e3;\n",
       "            color:  #000000;\n",
       "        }#T_644ed1a8_d727_11eb_9159_784f438242d1row0_col5,#T_644ed1a8_d727_11eb_9159_784f438242d1row0_col6,#T_644ed1a8_d727_11eb_9159_784f438242d1row1_col7{\n",
       "            background-color:  #5572df;\n",
       "            color:  #000000;\n",
       "        }#T_644ed1a8_d727_11eb_9159_784f438242d1row0_col7{\n",
       "            background-color:  #8badfd;\n",
       "            color:  #000000;\n",
       "        }#T_644ed1a8_d727_11eb_9159_784f438242d1row0_col8,#T_644ed1a8_d727_11eb_9159_784f438242d1row2_col6,#T_644ed1a8_d727_11eb_9159_784f438242d1row2_col9,#T_644ed1a8_d727_11eb_9159_784f438242d1row4_col1,#T_644ed1a8_d727_11eb_9159_784f438242d1row5_col1{\n",
       "            background-color:  #455cce;\n",
       "            color:  #f1f1f1;\n",
       "        }#T_644ed1a8_d727_11eb_9159_784f438242d1row0_col9,#T_644ed1a8_d727_11eb_9159_784f438242d1row1_col8,#T_644ed1a8_d727_11eb_9159_784f438242d1row2_col3,#T_644ed1a8_d727_11eb_9159_784f438242d1row2_col5,#T_644ed1a8_d727_11eb_9159_784f438242d1row3_col2,#T_644ed1a8_d727_11eb_9159_784f438242d1row3_col4,#T_644ed1a8_d727_11eb_9159_784f438242d1row6_col8,#T_644ed1a8_d727_11eb_9159_784f438242d1row8_col1,#T_644ed1a8_d727_11eb_9159_784f438242d1row8_col6,#T_644ed1a8_d727_11eb_9159_784f438242d1row9_col0,#T_644ed1a8_d727_11eb_9159_784f438242d1row9_col2,#T_644ed1a8_d727_11eb_9159_784f438242d1row9_col7,#T_644ed1a8_d727_11eb_9159_784f438242d1row9_col8{\n",
       "            background-color:  #3b4cc0;\n",
       "            color:  #f1f1f1;\n",
       "        }#T_644ed1a8_d727_11eb_9159_784f438242d1row1_col0{\n",
       "            background-color:  #b5cdfa;\n",
       "            color:  #000000;\n",
       "        }#T_644ed1a8_d727_11eb_9159_784f438242d1row1_col2,#T_644ed1a8_d727_11eb_9159_784f438242d1row2_col8{\n",
       "            background-color:  #465ecf;\n",
       "            color:  #f1f1f1;\n",
       "        }#T_644ed1a8_d727_11eb_9159_784f438242d1row1_col4,#T_644ed1a8_d727_11eb_9159_784f438242d1row6_col2,#T_644ed1a8_d727_11eb_9159_784f438242d1row8_col9{\n",
       "            background-color:  #4c66d6;\n",
       "            color:  #000000;\n",
       "        }#T_644ed1a8_d727_11eb_9159_784f438242d1row1_col5{\n",
       "            background-color:  #4b64d5;\n",
       "            color:  #f1f1f1;\n",
       "        }#T_644ed1a8_d727_11eb_9159_784f438242d1row1_col6,#T_644ed1a8_d727_11eb_9159_784f438242d1row2_col1,#T_644ed1a8_d727_11eb_9159_784f438242d1row6_col1{\n",
       "            background-color:  #3e51c5;\n",
       "            color:  #f1f1f1;\n",
       "        }#T_644ed1a8_d727_11eb_9159_784f438242d1row1_col9,#T_644ed1a8_d727_11eb_9159_784f438242d1row8_col7{\n",
       "            background-color:  #5470de;\n",
       "            color:  #000000;\n",
       "        }#T_644ed1a8_d727_11eb_9159_784f438242d1row2_col0{\n",
       "            background-color:  #485fd1;\n",
       "            color:  #f1f1f1;\n",
       "        }#T_644ed1a8_d727_11eb_9159_784f438242d1row2_col4{\n",
       "            background-color:  #516ddb;\n",
       "            color:  #000000;\n",
       "        }#T_644ed1a8_d727_11eb_9159_784f438242d1row2_col7{\n",
       "            background-color:  #7597f6;\n",
       "            color:  #000000;\n",
       "        }#T_644ed1a8_d727_11eb_9159_784f438242d1row3_col0,#T_644ed1a8_d727_11eb_9159_784f438242d1row6_col9,#T_644ed1a8_d727_11eb_9159_784f438242d1row8_col2{\n",
       "            background-color:  #4e68d8;\n",
       "            color:  #000000;\n",
       "        }#T_644ed1a8_d727_11eb_9159_784f438242d1row3_col1,#T_644ed1a8_d727_11eb_9159_784f438242d1row4_col3,#T_644ed1a8_d727_11eb_9159_784f438242d1row5_col2,#T_644ed1a8_d727_11eb_9159_784f438242d1row7_col9,#T_644ed1a8_d727_11eb_9159_784f438242d1row9_col6{\n",
       "            background-color:  #3c4ec2;\n",
       "            color:  #f1f1f1;\n",
       "        }#T_644ed1a8_d727_11eb_9159_784f438242d1row3_col5,#T_644ed1a8_d727_11eb_9159_784f438242d1row4_col0{\n",
       "            background-color:  #6485ec;\n",
       "            color:  #000000;\n",
       "        }#T_644ed1a8_d727_11eb_9159_784f438242d1row3_col6{\n",
       "            background-color:  #5673e0;\n",
       "            color:  #000000;\n",
       "        }#T_644ed1a8_d727_11eb_9159_784f438242d1row3_col7{\n",
       "            background-color:  #c6d6f1;\n",
       "            color:  #000000;\n",
       "        }#T_644ed1a8_d727_11eb_9159_784f438242d1row3_col8,#T_644ed1a8_d727_11eb_9159_784f438242d1row4_col8,#T_644ed1a8_d727_11eb_9159_784f438242d1row9_col1{\n",
       "            background-color:  #4257c9;\n",
       "            color:  #f1f1f1;\n",
       "        }#T_644ed1a8_d727_11eb_9159_784f438242d1row3_col9{\n",
       "            background-color:  #799cf8;\n",
       "            color:  #000000;\n",
       "        }#T_644ed1a8_d727_11eb_9159_784f438242d1row4_col2,#T_644ed1a8_d727_11eb_9159_784f438242d1row7_col6{\n",
       "            background-color:  #536edd;\n",
       "            color:  #000000;\n",
       "        }#T_644ed1a8_d727_11eb_9159_784f438242d1row4_col5{\n",
       "            background-color:  #85a8fc;\n",
       "            color:  #000000;\n",
       "        }#T_644ed1a8_d727_11eb_9159_784f438242d1row4_col6{\n",
       "            background-color:  #aac7fd;\n",
       "            color:  #000000;\n",
       "        }#T_644ed1a8_d727_11eb_9159_784f438242d1row4_col7,#T_644ed1a8_d727_11eb_9159_784f438242d1row5_col6{\n",
       "            background-color:  #7699f6;\n",
       "            color:  #000000;\n",
       "        }#T_644ed1a8_d727_11eb_9159_784f438242d1row4_col9,#T_644ed1a8_d727_11eb_9159_784f438242d1row8_col4{\n",
       "            background-color:  #4961d2;\n",
       "            color:  #f1f1f1;\n",
       "        }#T_644ed1a8_d727_11eb_9159_784f438242d1row5_col0{\n",
       "            background-color:  #6282ea;\n",
       "            color:  #000000;\n",
       "        }#T_644ed1a8_d727_11eb_9159_784f438242d1row5_col3,#T_644ed1a8_d727_11eb_9159_784f438242d1row6_col0,#T_644ed1a8_d727_11eb_9159_784f438242d1row7_col5{\n",
       "            background-color:  #6788ee;\n",
       "            color:  #000000;\n",
       "        }#T_644ed1a8_d727_11eb_9159_784f438242d1row5_col4{\n",
       "            background-color:  #86a9fc;\n",
       "            color:  #000000;\n",
       "        }#T_644ed1a8_d727_11eb_9159_784f438242d1row5_col7{\n",
       "            background-color:  #7396f5;\n",
       "            color:  #000000;\n",
       "        }#T_644ed1a8_d727_11eb_9159_784f438242d1row5_col9{\n",
       "            background-color:  #4f69d9;\n",
       "            color:  #000000;\n",
       "        }#T_644ed1a8_d727_11eb_9159_784f438242d1row6_col3{\n",
       "            background-color:  #5e7de7;\n",
       "            color:  #000000;\n",
       "        }#T_644ed1a8_d727_11eb_9159_784f438242d1row6_col4{\n",
       "            background-color:  #afcafc;\n",
       "            color:  #000000;\n",
       "        }#T_644ed1a8_d727_11eb_9159_784f438242d1row6_col5{\n",
       "            background-color:  #7b9ff9;\n",
       "            color:  #000000;\n",
       "        }#T_644ed1a8_d727_11eb_9159_784f438242d1row6_col7{\n",
       "            background-color:  #6384eb;\n",
       "            color:  #000000;\n",
       "        }#T_644ed1a8_d727_11eb_9159_784f438242d1row7_col0{\n",
       "            background-color:  #8caffe;\n",
       "            color:  #000000;\n",
       "        }#T_644ed1a8_d727_11eb_9159_784f438242d1row7_col1{\n",
       "            background-color:  #445acc;\n",
       "            color:  #f1f1f1;\n",
       "        }#T_644ed1a8_d727_11eb_9159_784f438242d1row7_col2,#T_644ed1a8_d727_11eb_9159_784f438242d1row7_col4{\n",
       "            background-color:  #6b8df0;\n",
       "            color:  #000000;\n",
       "        }#T_644ed1a8_d727_11eb_9159_784f438242d1row7_col3{\n",
       "            background-color:  #c0d4f5;\n",
       "            color:  #000000;\n",
       "        }#T_644ed1a8_d727_11eb_9159_784f438242d1row8_col0{\n",
       "            background-color:  #5875e1;\n",
       "            color:  #000000;\n",
       "        }#T_644ed1a8_d727_11eb_9159_784f438242d1row8_col3{\n",
       "            background-color:  #4a63d3;\n",
       "            color:  #f1f1f1;\n",
       "        }#T_644ed1a8_d727_11eb_9159_784f438242d1row9_col3{\n",
       "            background-color:  #6e90f2;\n",
       "            color:  #000000;\n",
       "        }</style><table id=\"T_644ed1a8_d727_11eb_9159_784f438242d1\" ><thead>    <tr>        <th class=\"blank level0\" ></th>        <th class=\"col_heading level0 col0\" >num_languages</th>        <th class=\"col_heading level0 col1\" >speaks_english</th>        <th class=\"col_heading level0 col2\" >gender_tuned</th>        <th class=\"col_heading level0 col3\" >income_level</th>        <th class=\"col_heading level0 col4\" >avg_lessons_per_students</th>        <th class=\"col_heading level0 col5\" >num_ratings</th>        <th class=\"col_heading level0 col6\" >avg_rating</th>        <th class=\"col_heading level0 col7\" >price</th>        <th class=\"col_heading level0 col8\" >first_letter</th>        <th class=\"col_heading level0 col9\" >position</th>    </tr></thead><tbody>\n",
       "                <tr>\n",
       "                        <th id=\"T_644ed1a8_d727_11eb_9159_784f438242d1level0_row0\" class=\"row_heading level0 row0\" >num_languages</th>\n",
       "                        <td id=\"T_644ed1a8_d727_11eb_9159_784f438242d1row0_col0\" class=\"data row0 col0\" >1.000000</td>\n",
       "                        <td id=\"T_644ed1a8_d727_11eb_9159_784f438242d1row0_col1\" class=\"data row0 col1\" >0.302423</td>\n",
       "                        <td id=\"T_644ed1a8_d727_11eb_9159_784f438242d1row0_col2\" class=\"data row0 col2\" >-0.051298</td>\n",
       "                        <td id=\"T_644ed1a8_d727_11eb_9159_784f438242d1row0_col3\" class=\"data row0 col3\" >-0.029909</td>\n",
       "                        <td id=\"T_644ed1a8_d727_11eb_9159_784f438242d1row0_col4\" class=\"data row0 col4\" >0.049186</td>\n",
       "                        <td id=\"T_644ed1a8_d727_11eb_9159_784f438242d1row0_col5\" class=\"data row0 col5\" >0.040638</td>\n",
       "                        <td id=\"T_644ed1a8_d727_11eb_9159_784f438242d1row0_col6\" class=\"data row0 col6\" >0.057014</td>\n",
       "                        <td id=\"T_644ed1a8_d727_11eb_9159_784f438242d1row0_col7\" class=\"data row0 col7\" >0.172106</td>\n",
       "                        <td id=\"T_644ed1a8_d727_11eb_9159_784f438242d1row0_col8\" class=\"data row0 col8\" >0.005814</td>\n",
       "                        <td id=\"T_644ed1a8_d727_11eb_9159_784f438242d1row0_col9\" class=\"data row0 col9\" >-0.100176</td>\n",
       "            </tr>\n",
       "            <tr>\n",
       "                        <th id=\"T_644ed1a8_d727_11eb_9159_784f438242d1level0_row1\" class=\"row_heading level0 row1\" >speaks_english</th>\n",
       "                        <td id=\"T_644ed1a8_d727_11eb_9159_784f438242d1row1_col0\" class=\"data row1 col0\" >0.302423</td>\n",
       "                        <td id=\"T_644ed1a8_d727_11eb_9159_784f438242d1row1_col1\" class=\"data row1 col1\" >1.000000</td>\n",
       "                        <td id=\"T_644ed1a8_d727_11eb_9159_784f438242d1row1_col2\" class=\"data row1 col2\" >-0.017557</td>\n",
       "                        <td id=\"T_644ed1a8_d727_11eb_9159_784f438242d1row1_col3\" class=\"data row1 col3\" >-0.027826</td>\n",
       "                        <td id=\"T_644ed1a8_d727_11eb_9159_784f438242d1row1_col4\" class=\"data row1 col4\" >0.007605</td>\n",
       "                        <td id=\"T_644ed1a8_d727_11eb_9159_784f438242d1row1_col5\" class=\"data row1 col5\" >0.004972</td>\n",
       "                        <td id=\"T_644ed1a8_d727_11eb_9159_784f438242d1row1_col6\" class=\"data row1 col6\" >-0.017912</td>\n",
       "                        <td id=\"T_644ed1a8_d727_11eb_9159_784f438242d1row1_col7\" class=\"data row1 col7\" >0.002417</td>\n",
       "                        <td id=\"T_644ed1a8_d727_11eb_9159_784f438242d1row1_col8\" class=\"data row1 col8\" >-0.032546</td>\n",
       "                        <td id=\"T_644ed1a8_d727_11eb_9159_784f438242d1row1_col9\" class=\"data row1 col9\" >-0.007982</td>\n",
       "            </tr>\n",
       "            <tr>\n",
       "                        <th id=\"T_644ed1a8_d727_11eb_9159_784f438242d1level0_row2\" class=\"row_heading level0 row2\" >gender_tuned</th>\n",
       "                        <td id=\"T_644ed1a8_d727_11eb_9159_784f438242d1row2_col0\" class=\"data row2 col0\" >-0.051298</td>\n",
       "                        <td id=\"T_644ed1a8_d727_11eb_9159_784f438242d1row2_col1\" class=\"data row2 col1\" >-0.017557</td>\n",
       "                        <td id=\"T_644ed1a8_d727_11eb_9159_784f438242d1row2_col2\" class=\"data row2 col2\" >1.000000</td>\n",
       "                        <td id=\"T_644ed1a8_d727_11eb_9159_784f438242d1row2_col3\" class=\"data row2 col3\" >-0.060915</td>\n",
       "                        <td id=\"T_644ed1a8_d727_11eb_9159_784f438242d1row2_col4\" class=\"data row2 col4\" >0.023893</td>\n",
       "                        <td id=\"T_644ed1a8_d727_11eb_9159_784f438242d1row2_col5\" class=\"data row2 col5\" >-0.053091</td>\n",
       "                        <td id=\"T_644ed1a8_d727_11eb_9159_784f438242d1row2_col6\" class=\"data row2 col6\" >0.004704</td>\n",
       "                        <td id=\"T_644ed1a8_d727_11eb_9159_784f438242d1row2_col7\" class=\"data row2 col7\" >0.104571</td>\n",
       "                        <td id=\"T_644ed1a8_d727_11eb_9159_784f438242d1row2_col8\" class=\"data row2 col8\" >0.009124</td>\n",
       "                        <td id=\"T_644ed1a8_d727_11eb_9159_784f438242d1row2_col9\" class=\"data row2 col9\" >-0.057453</td>\n",
       "            </tr>\n",
       "            <tr>\n",
       "                        <th id=\"T_644ed1a8_d727_11eb_9159_784f438242d1level0_row3\" class=\"row_heading level0 row3\" >income_level</th>\n",
       "                        <td id=\"T_644ed1a8_d727_11eb_9159_784f438242d1row3_col0\" class=\"data row3 col0\" >-0.029909</td>\n",
       "                        <td id=\"T_644ed1a8_d727_11eb_9159_784f438242d1row3_col1\" class=\"data row3 col1\" >-0.027826</td>\n",
       "                        <td id=\"T_644ed1a8_d727_11eb_9159_784f438242d1row3_col2\" class=\"data row3 col2\" >-0.060915</td>\n",
       "                        <td id=\"T_644ed1a8_d727_11eb_9159_784f438242d1row3_col3\" class=\"data row3 col3\" >1.000000</td>\n",
       "                        <td id=\"T_644ed1a8_d727_11eb_9159_784f438242d1row3_col4\" class=\"data row3 col4\" >-0.056556</td>\n",
       "                        <td id=\"T_644ed1a8_d727_11eb_9159_784f438242d1row3_col5\" class=\"data row3 col5\" >0.090622</td>\n",
       "                        <td id=\"T_644ed1a8_d727_11eb_9159_784f438242d1row3_col6\" class=\"data row3 col6\" >0.060118</td>\n",
       "                        <td id=\"T_644ed1a8_d727_11eb_9159_784f438242d1row3_col7\" class=\"data row3 col7\" >0.362622</td>\n",
       "                        <td id=\"T_644ed1a8_d727_11eb_9159_784f438242d1row3_col8\" class=\"data row3 col8\" >-0.006188</td>\n",
       "                        <td id=\"T_644ed1a8_d727_11eb_9159_784f438242d1row3_col9\" class=\"data row3 col9\" >0.112700</td>\n",
       "            </tr>\n",
       "            <tr>\n",
       "                        <th id=\"T_644ed1a8_d727_11eb_9159_784f438242d1level0_row4\" class=\"row_heading level0 row4\" >avg_lessons_per_students</th>\n",
       "                        <td id=\"T_644ed1a8_d727_11eb_9159_784f438242d1row4_col0\" class=\"data row4 col0\" >0.049186</td>\n",
       "                        <td id=\"T_644ed1a8_d727_11eb_9159_784f438242d1row4_col1\" class=\"data row4 col1\" >0.007605</td>\n",
       "                        <td id=\"T_644ed1a8_d727_11eb_9159_784f438242d1row4_col2\" class=\"data row4 col2\" >0.023893</td>\n",
       "                        <td id=\"T_644ed1a8_d727_11eb_9159_784f438242d1row4_col3\" class=\"data row4 col3\" >-0.056556</td>\n",
       "                        <td id=\"T_644ed1a8_d727_11eb_9159_784f438242d1row4_col4\" class=\"data row4 col4\" >1.000000</td>\n",
       "                        <td id=\"T_644ed1a8_d727_11eb_9159_784f438242d1row4_col5\" class=\"data row4 col5\" >0.188301</td>\n",
       "                        <td id=\"T_644ed1a8_d727_11eb_9159_784f438242d1row4_col6\" class=\"data row4 col6\" >0.313253</td>\n",
       "                        <td id=\"T_644ed1a8_d727_11eb_9159_784f438242d1row4_col7\" class=\"data row4 col7\" >0.108414</td>\n",
       "                        <td id=\"T_644ed1a8_d727_11eb_9159_784f438242d1row4_col8\" class=\"data row4 col8\" >-0.005110</td>\n",
       "                        <td id=\"T_644ed1a8_d727_11eb_9159_784f438242d1row4_col9\" class=\"data row4 col9\" >-0.047689</td>\n",
       "            </tr>\n",
       "            <tr>\n",
       "                        <th id=\"T_644ed1a8_d727_11eb_9159_784f438242d1level0_row5\" class=\"row_heading level0 row5\" >num_ratings</th>\n",
       "                        <td id=\"T_644ed1a8_d727_11eb_9159_784f438242d1row5_col0\" class=\"data row5 col0\" >0.040638</td>\n",
       "                        <td id=\"T_644ed1a8_d727_11eb_9159_784f438242d1row5_col1\" class=\"data row5 col1\" >0.004972</td>\n",
       "                        <td id=\"T_644ed1a8_d727_11eb_9159_784f438242d1row5_col2\" class=\"data row5 col2\" >-0.053091</td>\n",
       "                        <td id=\"T_644ed1a8_d727_11eb_9159_784f438242d1row5_col3\" class=\"data row5 col3\" >0.090622</td>\n",
       "                        <td id=\"T_644ed1a8_d727_11eb_9159_784f438242d1row5_col4\" class=\"data row5 col4\" >0.188301</td>\n",
       "                        <td id=\"T_644ed1a8_d727_11eb_9159_784f438242d1row5_col5\" class=\"data row5 col5\" >1.000000</td>\n",
       "                        <td id=\"T_644ed1a8_d727_11eb_9159_784f438242d1row5_col6\" class=\"data row5 col6\" >0.159434</td>\n",
       "                        <td id=\"T_644ed1a8_d727_11eb_9159_784f438242d1row5_col7\" class=\"data row5 col7\" >0.098847</td>\n",
       "                        <td id=\"T_644ed1a8_d727_11eb_9159_784f438242d1row5_col8\" class=\"data row5 col8\" >-0.021463</td>\n",
       "                        <td id=\"T_644ed1a8_d727_11eb_9159_784f438242d1row5_col9\" class=\"data row5 col9\" >-0.023111</td>\n",
       "            </tr>\n",
       "            <tr>\n",
       "                        <th id=\"T_644ed1a8_d727_11eb_9159_784f438242d1level0_row6\" class=\"row_heading level0 row6\" >avg_rating</th>\n",
       "                        <td id=\"T_644ed1a8_d727_11eb_9159_784f438242d1row6_col0\" class=\"data row6 col0\" >0.057014</td>\n",
       "                        <td id=\"T_644ed1a8_d727_11eb_9159_784f438242d1row6_col1\" class=\"data row6 col1\" >-0.017912</td>\n",
       "                        <td id=\"T_644ed1a8_d727_11eb_9159_784f438242d1row6_col2\" class=\"data row6 col2\" >0.004704</td>\n",
       "                        <td id=\"T_644ed1a8_d727_11eb_9159_784f438242d1row6_col3\" class=\"data row6 col3\" >0.060118</td>\n",
       "                        <td id=\"T_644ed1a8_d727_11eb_9159_784f438242d1row6_col4\" class=\"data row6 col4\" >0.313253</td>\n",
       "                        <td id=\"T_644ed1a8_d727_11eb_9159_784f438242d1row6_col5\" class=\"data row6 col5\" >0.159434</td>\n",
       "                        <td id=\"T_644ed1a8_d727_11eb_9159_784f438242d1row6_col6\" class=\"data row6 col6\" >1.000000</td>\n",
       "                        <td id=\"T_644ed1a8_d727_11eb_9159_784f438242d1row6_col7\" class=\"data row6 col7\" >0.049515</td>\n",
       "                        <td id=\"T_644ed1a8_d727_11eb_9159_784f438242d1row6_col8\" class=\"data row6 col8\" >-0.033277</td>\n",
       "                        <td id=\"T_644ed1a8_d727_11eb_9159_784f438242d1row6_col9\" class=\"data row6 col9\" >-0.029000</td>\n",
       "            </tr>\n",
       "            <tr>\n",
       "                        <th id=\"T_644ed1a8_d727_11eb_9159_784f438242d1level0_row7\" class=\"row_heading level0 row7\" >price</th>\n",
       "                        <td id=\"T_644ed1a8_d727_11eb_9159_784f438242d1row7_col0\" class=\"data row7 col0\" >0.172106</td>\n",
       "                        <td id=\"T_644ed1a8_d727_11eb_9159_784f438242d1row7_col1\" class=\"data row7 col1\" >0.002417</td>\n",
       "                        <td id=\"T_644ed1a8_d727_11eb_9159_784f438242d1row7_col2\" class=\"data row7 col2\" >0.104571</td>\n",
       "                        <td id=\"T_644ed1a8_d727_11eb_9159_784f438242d1row7_col3\" class=\"data row7 col3\" >0.362622</td>\n",
       "                        <td id=\"T_644ed1a8_d727_11eb_9159_784f438242d1row7_col4\" class=\"data row7 col4\" >0.108414</td>\n",
       "                        <td id=\"T_644ed1a8_d727_11eb_9159_784f438242d1row7_col5\" class=\"data row7 col5\" >0.098847</td>\n",
       "                        <td id=\"T_644ed1a8_d727_11eb_9159_784f438242d1row7_col6\" class=\"data row7 col6\" >0.049515</td>\n",
       "                        <td id=\"T_644ed1a8_d727_11eb_9159_784f438242d1row7_col7\" class=\"data row7 col7\" >1.000000</td>\n",
       "                        <td id=\"T_644ed1a8_d727_11eb_9159_784f438242d1row7_col8\" class=\"data row7 col8\" >-0.004054</td>\n",
       "                        <td id=\"T_644ed1a8_d727_11eb_9159_784f438242d1row7_col9\" class=\"data row7 col9\" >-0.095742</td>\n",
       "            </tr>\n",
       "            <tr>\n",
       "                        <th id=\"T_644ed1a8_d727_11eb_9159_784f438242d1level0_row8\" class=\"row_heading level0 row8\" >first_letter</th>\n",
       "                        <td id=\"T_644ed1a8_d727_11eb_9159_784f438242d1row8_col0\" class=\"data row8 col0\" >0.005814</td>\n",
       "                        <td id=\"T_644ed1a8_d727_11eb_9159_784f438242d1row8_col1\" class=\"data row8 col1\" >-0.032546</td>\n",
       "                        <td id=\"T_644ed1a8_d727_11eb_9159_784f438242d1row8_col2\" class=\"data row8 col2\" >0.009124</td>\n",
       "                        <td id=\"T_644ed1a8_d727_11eb_9159_784f438242d1row8_col3\" class=\"data row8 col3\" >-0.006188</td>\n",
       "                        <td id=\"T_644ed1a8_d727_11eb_9159_784f438242d1row8_col4\" class=\"data row8 col4\" >-0.005110</td>\n",
       "                        <td id=\"T_644ed1a8_d727_11eb_9159_784f438242d1row8_col5\" class=\"data row8 col5\" >-0.021463</td>\n",
       "                        <td id=\"T_644ed1a8_d727_11eb_9159_784f438242d1row8_col6\" class=\"data row8 col6\" >-0.033277</td>\n",
       "                        <td id=\"T_644ed1a8_d727_11eb_9159_784f438242d1row8_col7\" class=\"data row8 col7\" >-0.004054</td>\n",
       "                        <td id=\"T_644ed1a8_d727_11eb_9159_784f438242d1row8_col8\" class=\"data row8 col8\" >1.000000</td>\n",
       "                        <td id=\"T_644ed1a8_d727_11eb_9159_784f438242d1row8_col9\" class=\"data row8 col9\" >-0.032524</td>\n",
       "            </tr>\n",
       "            <tr>\n",
       "                        <th id=\"T_644ed1a8_d727_11eb_9159_784f438242d1level0_row9\" class=\"row_heading level0 row9\" >position</th>\n",
       "                        <td id=\"T_644ed1a8_d727_11eb_9159_784f438242d1row9_col0\" class=\"data row9 col0\" >-0.100176</td>\n",
       "                        <td id=\"T_644ed1a8_d727_11eb_9159_784f438242d1row9_col1\" class=\"data row9 col1\" >-0.007982</td>\n",
       "                        <td id=\"T_644ed1a8_d727_11eb_9159_784f438242d1row9_col2\" class=\"data row9 col2\" >-0.057453</td>\n",
       "                        <td id=\"T_644ed1a8_d727_11eb_9159_784f438242d1row9_col3\" class=\"data row9 col3\" >0.112700</td>\n",
       "                        <td id=\"T_644ed1a8_d727_11eb_9159_784f438242d1row9_col4\" class=\"data row9 col4\" >-0.047689</td>\n",
       "                        <td id=\"T_644ed1a8_d727_11eb_9159_784f438242d1row9_col5\" class=\"data row9 col5\" >-0.023111</td>\n",
       "                        <td id=\"T_644ed1a8_d727_11eb_9159_784f438242d1row9_col6\" class=\"data row9 col6\" >-0.029000</td>\n",
       "                        <td id=\"T_644ed1a8_d727_11eb_9159_784f438242d1row9_col7\" class=\"data row9 col7\" >-0.095742</td>\n",
       "                        <td id=\"T_644ed1a8_d727_11eb_9159_784f438242d1row9_col8\" class=\"data row9 col8\" >-0.032524</td>\n",
       "                        <td id=\"T_644ed1a8_d727_11eb_9159_784f438242d1row9_col9\" class=\"data row9 col9\" >1.000000</td>\n",
       "            </tr>\n",
       "    </tbody></table>"
      ],
      "text/plain": [
       "<pandas.io.formats.style.Styler at 0x7fa9f3f1b4c0>"
      ]
     },
     "execution_count": 16,
     "metadata": {},
     "output_type": "execute_result"
    }
   ],
   "source": [
    "import matplotlib.pyplot as plt\n",
    "\n",
    "verbling.corr().style.background_gradient(cmap='coolwarm')"
   ]
  },
  {
   "cell_type": "code",
   "execution_count": 17,
   "metadata": {},
   "outputs": [
    {
     "data": {
      "text/plain": [
       "array([[ 7.        ,  1.        , -1.15063861, ...,  4.97580645,\n",
       "        -0.34952577,  0.52      ],\n",
       "       [ 3.        ,  0.        , -0.97026516, ...,  4.97692308,\n",
       "        -0.34952577,  0.52      ],\n",
       "       [ 6.        ,  1.        ,  0.63573392, ...,  5.        ,\n",
       "         4.71350716,  0.12      ],\n",
       "       ...,\n",
       "       [ 4.        ,  0.        ,  0.10050793, ...,  5.        ,\n",
       "        -0.01199024,  0.32      ],\n",
       "       [ 1.        ,  1.        ,  0.10050793, ...,  0.        ,\n",
       "        -0.57454946,  0.16      ],\n",
       "       [ 2.        ,  1.        ,  0.10050793, ...,  0.        ,\n",
       "        -0.57454946,  0.16      ]])"
      ]
     },
     "execution_count": 17,
     "metadata": {},
     "output_type": "execute_result"
    }
   ],
   "source": [
    "X"
   ]
  },
  {
   "cell_type": "code",
   "execution_count": 18,
   "metadata": {},
   "outputs": [
    {
     "data": {
      "text/plain": [
       "array([  1,   1,   1, ..., 544, 545, 546])"
      ]
     },
     "execution_count": 18,
     "metadata": {},
     "output_type": "execute_result"
    }
   ],
   "source": [
    "y"
   ]
  },
  {
   "cell_type": "code",
   "execution_count": 69,
   "metadata": {},
   "outputs": [],
   "source": [
    "from sklearn.model_selection import train_test_split\n",
    "X_train, X_test, y_train, y_test = train_test_split(X, y, test_size=0.2, random_state=42)"
   ]
  },
  {
   "cell_type": "code",
   "execution_count": 70,
   "metadata": {},
   "outputs": [],
   "source": [
    "from sklearn.linear_model import LinearRegression\n",
    "lin_reg = LinearRegression().fit(X_train, y_train)"
   ]
  },
  {
   "cell_type": "code",
   "execution_count": 71,
   "metadata": {},
   "outputs": [],
   "source": [
    "import seaborn as sns\n",
    "def plot_regression(y_test, y_pred):\n",
    "    plot_df = pd.DataFrame()\n",
    "    plot_df['y_true'] = y_test\n",
    "    plot_df['y_pred'] = y_pred\n",
    "    sns.lmplot(x='y_true',y='y_pred', data=plot_df, fit_reg=True)"
   ]
  },
  {
   "cell_type": "code",
   "execution_count": 72,
   "metadata": {},
   "outputs": [],
   "source": [
    "y_hat = lin_reg.predict(X_test)"
   ]
  },
  {
   "cell_type": "code",
   "execution_count": 73,
   "metadata": {},
   "outputs": [
    {
     "data": {
      "text/plain": [
       "array([231.7441047 , 304.62696627, 224.41492248])"
      ]
     },
     "execution_count": 73,
     "metadata": {},
     "output_type": "execute_result"
    }
   ],
   "source": [
    "y_hat[:3]"
   ]
  },
  {
   "cell_type": "code",
   "execution_count": 74,
   "metadata": {},
   "outputs": [
    {
     "data": {
      "image/png": "[encoded data removed]",
      "text/plain": [
       "<Figure size 360x360 with 1 Axes>"
      ]
     },
     "metadata": {
      "needs_background": "light"
     },
     "output_type": "display_data"
    }
   ],
   "source": [
    "plot_regression(y_test, y_hat)"
   ]
  },
  {
   "cell_type": "code",
   "execution_count": 75,
   "metadata": {},
   "outputs": [
    {
     "data": {
      "text/plain": [
       "-0.04821209161109907"
      ]
     },
     "execution_count": 75,
     "metadata": {},
     "output_type": "execute_result"
    }
   ],
   "source": [
    "from sklearn.metrics import r2_score\n",
    "r2_score(y_test, y_hat)"
   ]
  },
  {
   "cell_type": "code",
   "execution_count": 76,
   "metadata": {},
   "outputs": [],
   "source": [
    "# XGBoost Regressor"
   ]
  },
  {
   "cell_type": "code",
   "execution_count": 77,
   "metadata": {},
   "outputs": [],
   "source": [
    "import xgboost"
   ]
  },
  {
   "cell_type": "code",
   "execution_count": 78,
   "metadata": {},
   "outputs": [],
   "source": [
    "xgb = xgboost.XGBRegressor(learning_rate=0.1,\n",
    "                 max_depth=5,\n",
    "                 n_estimators=60)"
   ]
  },
  {
   "cell_type": "code",
   "execution_count": 79,
   "metadata": {},
   "outputs": [
    {
     "data": {
      "text/plain": [
       "XGBRegressor(base_score=0.5, booster='gbtree', colsample_bylevel=1,\n",
       "             colsample_bynode=1, colsample_bytree=1, gamma=0, gpu_id=-1,\n",
       "             importance_type='gain', interaction_constraints='',\n",
       "             learning_rate=0.1, max_delta_step=0, max_depth=5,\n",
       "             min_child_weight=1, missing=nan, monotone_constraints='()',\n",
       "             n_estimators=60, n_jobs=4, num_parallel_tree=1, random_state=0,\n",
       "             reg_alpha=0, reg_lambda=1, scale_pos_weight=1, subsample=1,\n",
       "             tree_method='exact', validate_parameters=1, verbosity=None)"
      ]
     },
     "execution_count": 79,
     "metadata": {},
     "output_type": "execute_result"
    }
   ],
   "source": [
    "xgb.fit(X_train, y_train)"
   ]
  },
  {
   "cell_type": "code",
   "execution_count": 80,
   "metadata": {},
   "outputs": [],
   "source": [
    "y_hat = xgb.predict(X_test)"
   ]
  },
  {
   "cell_type": "code",
   "execution_count": 81,
   "metadata": {},
   "outputs": [
    {
     "data": {
      "text/plain": [
       "array([175.64099, 336.88443, 225.08585], dtype=float32)"
      ]
     },
     "execution_count": 81,
     "metadata": {},
     "output_type": "execute_result"
    }
   ],
   "source": [
    "y_hat[:3]"
   ]
  },
  {
   "cell_type": "code",
   "execution_count": 82,
   "metadata": {},
   "outputs": [
    {
     "data": {
      "image/png": "[encoded data removed]",
      "text/plain": [
       "<Figure size 360x360 with 1 Axes>"
      ]
     },
     "metadata": {
      "needs_background": "light"
     },
     "output_type": "display_data"
    }
   ],
   "source": [
    "plot_regression(y_test, y_hat)"
   ]
  },
  {
   "cell_type": "code",
   "execution_count": 83,
   "metadata": {},
   "outputs": [
    {
     "data": {
      "text/plain": [
       "-0.10904306388170726"
      ]
     },
     "execution_count": 83,
     "metadata": {},
     "output_type": "execute_result"
    }
   ],
   "source": [
    "from sklearn.metrics import r2_score\n",
    "r2_score(y_test, y_hat)"
   ]
  },
  {
   "cell_type": "code",
   "execution_count": null,
   "metadata": {},
   "outputs": [],
   "source": []
  }
 ],
 "metadata": {
  "kernelspec": {
   "display_name": "Python 3",
   "language": "python",
   "name": "python3"
  },
  "language_info": {
   "codemirror_mode": {
    "name": "ipython",
    "version": 3
   },
   "file_extension": ".py",
   "mimetype": "text/x-python",
   "name": "python",
   "nbconvert_exporter": "python",
   "pygments_lexer": "ipython3",
   "version": "3.8.5"
  }
 },
 "nbformat": 4,
 "nbformat_minor": 4
}
