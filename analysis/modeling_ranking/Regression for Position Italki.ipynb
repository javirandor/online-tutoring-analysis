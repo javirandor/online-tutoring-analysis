{
 "cells": [
  {
   "cell_type": "code",
   "execution_count": 1,
   "metadata": {},
   "outputs": [],
   "source": [
    "import pandas as pd"
   ]
  },
  {
   "cell_type": "markdown",
   "metadata": {},
   "source": [
    "# Regression for Italki position"
   ]
  },
  {
   "cell_type": "code",
   "execution_count": 2,
   "metadata": {},
   "outputs": [],
   "source": [
    "italki = pd.read_csv('../../data/model_ranking/italki.csv', index_col=0)"
   ]
  },
  {
   "cell_type": "code",
   "execution_count": 3,
   "metadata": {},
   "outputs": [
    {
     "data": {
      "text/html": [
       "<div>\n",
       "<style scoped>\n",
       "    .dataframe tbody tr th:only-of-type {\n",
       "        vertical-align: middle;\n",
       "    }\n",
       "\n",
       "    .dataframe tbody tr th {\n",
       "        vertical-align: top;\n",
       "    }\n",
       "\n",
       "    .dataframe thead th {\n",
       "        text-align: right;\n",
       "    }\n",
       "</style>\n",
       "<table border=\"1\" class=\"dataframe\">\n",
       "  <thead>\n",
       "    <tr style=\"text-align: right;\">\n",
       "      <th></th>\n",
       "      <th>num_languages</th>\n",
       "      <th>speaks_english</th>\n",
       "      <th>gender_tuned</th>\n",
       "      <th>income_level</th>\n",
       "      <th>num_teaches</th>\n",
       "      <th>number_sessions</th>\n",
       "      <th>rating</th>\n",
       "      <th>price</th>\n",
       "      <th>is_pro</th>\n",
       "      <th>position</th>\n",
       "      <th>first_letter</th>\n",
       "    </tr>\n",
       "  </thead>\n",
       "  <tbody>\n",
       "    <tr>\n",
       "      <th>0</th>\n",
       "      <td>1</td>\n",
       "      <td>1</td>\n",
       "      <td>0</td>\n",
       "      <td>-0.84154</td>\n",
       "      <td>1</td>\n",
       "      <td>10</td>\n",
       "      <td>5.0</td>\n",
       "      <td>-0.957834</td>\n",
       "      <td>0</td>\n",
       "      <td>2</td>\n",
       "      <td>0.96</td>\n",
       "    </tr>\n",
       "    <tr>\n",
       "      <th>1</th>\n",
       "      <td>3</td>\n",
       "      <td>1</td>\n",
       "      <td>1</td>\n",
       "      <td>-0.84154</td>\n",
       "      <td>1</td>\n",
       "      <td>2</td>\n",
       "      <td>5.0</td>\n",
       "      <td>-0.539094</td>\n",
       "      <td>0</td>\n",
       "      <td>3</td>\n",
       "      <td>0.00</td>\n",
       "    </tr>\n",
       "    <tr>\n",
       "      <th>2</th>\n",
       "      <td>1</td>\n",
       "      <td>0</td>\n",
       "      <td>1</td>\n",
       "      <td>-0.84154</td>\n",
       "      <td>1</td>\n",
       "      <td>3</td>\n",
       "      <td>5.0</td>\n",
       "      <td>-0.678674</td>\n",
       "      <td>0</td>\n",
       "      <td>4</td>\n",
       "      <td>0.48</td>\n",
       "    </tr>\n",
       "    <tr>\n",
       "      <th>3</th>\n",
       "      <td>3</td>\n",
       "      <td>1</td>\n",
       "      <td>0</td>\n",
       "      <td>-0.84154</td>\n",
       "      <td>1</td>\n",
       "      <td>5</td>\n",
       "      <td>5.0</td>\n",
       "      <td>-0.539094</td>\n",
       "      <td>1</td>\n",
       "      <td>5</td>\n",
       "      <td>0.52</td>\n",
       "    </tr>\n",
       "    <tr>\n",
       "      <th>4</th>\n",
       "      <td>1</td>\n",
       "      <td>1</td>\n",
       "      <td>1</td>\n",
       "      <td>-0.84154</td>\n",
       "      <td>1</td>\n",
       "      <td>1135</td>\n",
       "      <td>5.0</td>\n",
       "      <td>-0.818254</td>\n",
       "      <td>0</td>\n",
       "      <td>6</td>\n",
       "      <td>0.36</td>\n",
       "    </tr>\n",
       "  </tbody>\n",
       "</table>\n",
       "</div>"
      ],
      "text/plain": [
       "   num_languages  speaks_english  gender_tuned  income_level  num_teaches  \\\n",
       "0              1               1             0      -0.84154            1   \n",
       "1              3               1             1      -0.84154            1   \n",
       "2              1               0             1      -0.84154            1   \n",
       "3              3               1             0      -0.84154            1   \n",
       "4              1               1             1      -0.84154            1   \n",
       "\n",
       "   number_sessions  rating     price  is_pro  position  first_letter  \n",
       "0               10     5.0 -0.957834       0         2          0.96  \n",
       "1                2     5.0 -0.539094       0         3          0.00  \n",
       "2                3     5.0 -0.678674       0         4          0.48  \n",
       "3                5     5.0 -0.539094       1         5          0.52  \n",
       "4             1135     5.0 -0.818254       0         6          0.36  "
      ]
     },
     "execution_count": 3,
     "metadata": {},
     "output_type": "execute_result"
    }
   ],
   "source": [
    "italki.head()"
   ]
  },
  {
   "cell_type": "code",
   "execution_count": 11,
   "metadata": {},
   "outputs": [
    {
     "data": {
      "text/plain": [
       "(4757, 11)"
      ]
     },
     "execution_count": 11,
     "metadata": {},
     "output_type": "execute_result"
    }
   ],
   "source": [
    "italki.shape"
   ]
  },
  {
   "cell_type": "code",
   "execution_count": 6,
   "metadata": {},
   "outputs": [],
   "source": [
    "italki = italki.dropna()"
   ]
  },
  {
   "cell_type": "code",
   "execution_count": 7,
   "metadata": {},
   "outputs": [],
   "source": [
    "italki = italki[['num_languages', 'speaks_english', 'gender_tuned', 'income_level', 'num_teaches', 'number_sessions', 'rating', 'price', 'is_pro', 'position', 'first_letter']]\n",
    "X = italki[['num_languages','speaks_english', 'gender_tuned', 'income_level', 'num_teaches', 'number_sessions', 'rating', 'is_pro', 'price', 'first_letter']].values\n",
    "y = italki['position'].values"
   ]
  },
  {
   "cell_type": "code",
   "execution_count": 8,
   "metadata": {},
   "outputs": [
    {
     "data": {
      "text/html": [
       "<style  type=\"text/css\" >\n",
       "#T_b63c5464_d726_11eb_adfe_784f438242d1row0_col0,#T_b63c5464_d726_11eb_adfe_784f438242d1row1_col1,#T_b63c5464_d726_11eb_adfe_784f438242d1row2_col2,#T_b63c5464_d726_11eb_adfe_784f438242d1row3_col3,#T_b63c5464_d726_11eb_adfe_784f438242d1row4_col4,#T_b63c5464_d726_11eb_adfe_784f438242d1row5_col5,#T_b63c5464_d726_11eb_adfe_784f438242d1row6_col6,#T_b63c5464_d726_11eb_adfe_784f438242d1row7_col7,#T_b63c5464_d726_11eb_adfe_784f438242d1row8_col8,#T_b63c5464_d726_11eb_adfe_784f438242d1row9_col9,#T_b63c5464_d726_11eb_adfe_784f438242d1row10_col10{\n",
       "            background-color:  #b40426;\n",
       "            color:  #f1f1f1;\n",
       "        }#T_b63c5464_d726_11eb_adfe_784f438242d1row0_col1,#T_b63c5464_d726_11eb_adfe_784f438242d1row4_col6{\n",
       "            background-color:  #5875e1;\n",
       "            color:  #000000;\n",
       "        }#T_b63c5464_d726_11eb_adfe_784f438242d1row0_col2,#T_b63c5464_d726_11eb_adfe_784f438242d1row0_col9,#T_b63c5464_d726_11eb_adfe_784f438242d1row2_col0,#T_b63c5464_d726_11eb_adfe_784f438242d1row3_col1,#T_b63c5464_d726_11eb_adfe_784f438242d1row3_col4,#T_b63c5464_d726_11eb_adfe_784f438242d1row3_col6,#T_b63c5464_d726_11eb_adfe_784f438242d1row4_col3,#T_b63c5464_d726_11eb_adfe_784f438242d1row4_col7,#T_b63c5464_d726_11eb_adfe_784f438242d1row4_col10,#T_b63c5464_d726_11eb_adfe_784f438242d1row10_col5,#T_b63c5464_d726_11eb_adfe_784f438242d1row10_col8{\n",
       "            background-color:  #3b4cc0;\n",
       "            color:  #f1f1f1;\n",
       "        }#T_b63c5464_d726_11eb_adfe_784f438242d1row0_col3{\n",
       "            background-color:  #94b6ff;\n",
       "            color:  #000000;\n",
       "        }#T_b63c5464_d726_11eb_adfe_784f438242d1row0_col4,#T_b63c5464_d726_11eb_adfe_784f438242d1row5_col0{\n",
       "            background-color:  #6180e9;\n",
       "            color:  #000000;\n",
       "        }#T_b63c5464_d726_11eb_adfe_784f438242d1row0_col5,#T_b63c5464_d726_11eb_adfe_784f438242d1row2_col7{\n",
       "            background-color:  #4e68d8;\n",
       "            color:  #000000;\n",
       "        }#T_b63c5464_d726_11eb_adfe_784f438242d1row0_col6,#T_b63c5464_d726_11eb_adfe_784f438242d1row2_col6{\n",
       "            background-color:  #455cce;\n",
       "            color:  #f1f1f1;\n",
       "        }#T_b63c5464_d726_11eb_adfe_784f438242d1row0_col7,#T_b63c5464_d726_11eb_adfe_784f438242d1row1_col0,#T_b63c5464_d726_11eb_adfe_784f438242d1row1_col3{\n",
       "            background-color:  #6e90f2;\n",
       "            color:  #000000;\n",
       "        }#T_b63c5464_d726_11eb_adfe_784f438242d1row0_col8,#T_b63c5464_d726_11eb_adfe_784f438242d1row9_col1{\n",
       "            background-color:  #3e51c5;\n",
       "            color:  #f1f1f1;\n",
       "        }#T_b63c5464_d726_11eb_adfe_784f438242d1row0_col10,#T_b63c5464_d726_11eb_adfe_784f438242d1row1_col8,#T_b63c5464_d726_11eb_adfe_784f438242d1row4_col2,#T_b63c5464_d726_11eb_adfe_784f438242d1row10_col1,#T_b63c5464_d726_11eb_adfe_784f438242d1row10_col9{\n",
       "            background-color:  #3c4ec2;\n",
       "            color:  #f1f1f1;\n",
       "        }#T_b63c5464_d726_11eb_adfe_784f438242d1row1_col2,#T_b63c5464_d726_11eb_adfe_784f438242d1row3_col5,#T_b63c5464_d726_11eb_adfe_784f438242d1row8_col9,#T_b63c5464_d726_11eb_adfe_784f438242d1row9_col5{\n",
       "            background-color:  #536edd;\n",
       "            color:  #000000;\n",
       "        }#T_b63c5464_d726_11eb_adfe_784f438242d1row1_col4{\n",
       "            background-color:  #7a9df8;\n",
       "            color:  #000000;\n",
       "        }#T_b63c5464_d726_11eb_adfe_784f438242d1row1_col5,#T_b63c5464_d726_11eb_adfe_784f438242d1row4_col9{\n",
       "            background-color:  #465ecf;\n",
       "            color:  #f1f1f1;\n",
       "        }#T_b63c5464_d726_11eb_adfe_784f438242d1row1_col6{\n",
       "            background-color:  #4a63d3;\n",
       "            color:  #f1f1f1;\n",
       "        }#T_b63c5464_d726_11eb_adfe_784f438242d1row1_col7,#T_b63c5464_d726_11eb_adfe_784f438242d1row2_col10,#T_b63c5464_d726_11eb_adfe_784f438242d1row3_col8{\n",
       "            background-color:  #4961d2;\n",
       "            color:  #f1f1f1;\n",
       "        }#T_b63c5464_d726_11eb_adfe_784f438242d1row1_col9,#T_b63c5464_d726_11eb_adfe_784f438242d1row3_col2,#T_b63c5464_d726_11eb_adfe_784f438242d1row3_col10,#T_b63c5464_d726_11eb_adfe_784f438242d1row6_col7,#T_b63c5464_d726_11eb_adfe_784f438242d1row6_col10{\n",
       "            background-color:  #3f53c6;\n",
       "            color:  #f1f1f1;\n",
       "        }#T_b63c5464_d726_11eb_adfe_784f438242d1row1_col10,#T_b63c5464_d726_11eb_adfe_784f438242d1row6_col1,#T_b63c5464_d726_11eb_adfe_784f438242d1row6_col8,#T_b63c5464_d726_11eb_adfe_784f438242d1row8_col10,#T_b63c5464_d726_11eb_adfe_784f438242d1row9_col10{\n",
       "            background-color:  #4055c8;\n",
       "            color:  #f1f1f1;\n",
       "        }#T_b63c5464_d726_11eb_adfe_784f438242d1row2_col1,#T_b63c5464_d726_11eb_adfe_784f438242d1row2_col5,#T_b63c5464_d726_11eb_adfe_784f438242d1row5_col10,#T_b63c5464_d726_11eb_adfe_784f438242d1row8_col1{\n",
       "            background-color:  #3d50c3;\n",
       "            color:  #f1f1f1;\n",
       "        }#T_b63c5464_d726_11eb_adfe_784f438242d1row2_col3{\n",
       "            background-color:  #5e7de7;\n",
       "            color:  #000000;\n",
       "        }#T_b63c5464_d726_11eb_adfe_784f438242d1row2_col4{\n",
       "            background-color:  #5a78e4;\n",
       "            color:  #000000;\n",
       "        }#T_b63c5464_d726_11eb_adfe_784f438242d1row2_col8,#T_b63c5464_d726_11eb_adfe_784f438242d1row2_col9,#T_b63c5464_d726_11eb_adfe_784f438242d1row5_col9,#T_b63c5464_d726_11eb_adfe_784f438242d1row6_col2{\n",
       "            background-color:  #516ddb;\n",
       "            color:  #000000;\n",
       "        }#T_b63c5464_d726_11eb_adfe_784f438242d1row3_col0{\n",
       "            background-color:  #799cf8;\n",
       "            color:  #000000;\n",
       "        }#T_b63c5464_d726_11eb_adfe_784f438242d1row3_col7{\n",
       "            background-color:  #dadce0;\n",
       "            color:  #000000;\n",
       "        }#T_b63c5464_d726_11eb_adfe_784f438242d1row3_col9{\n",
       "            background-color:  #6282ea;\n",
       "            color:  #000000;\n",
       "        }#T_b63c5464_d726_11eb_adfe_784f438242d1row4_col0,#T_b63c5464_d726_11eb_adfe_784f438242d1row7_col10{\n",
       "            background-color:  #4358cb;\n",
       "            color:  #f1f1f1;\n",
       "        }#T_b63c5464_d726_11eb_adfe_784f438242d1row4_col1{\n",
       "            background-color:  #485fd1;\n",
       "            color:  #f1f1f1;\n",
       "        }#T_b63c5464_d726_11eb_adfe_784f438242d1row4_col5{\n",
       "            background-color:  #5673e0;\n",
       "            color:  #000000;\n",
       "        }#T_b63c5464_d726_11eb_adfe_784f438242d1row4_col8,#T_b63c5464_d726_11eb_adfe_784f438242d1row7_col9,#T_b63c5464_d726_11eb_adfe_784f438242d1row9_col0{\n",
       "            background-color:  #4f69d9;\n",
       "            color:  #000000;\n",
       "        }#T_b63c5464_d726_11eb_adfe_784f438242d1row5_col1,#T_b63c5464_d726_11eb_adfe_784f438242d1row6_col9,#T_b63c5464_d726_11eb_adfe_784f438242d1row10_col6,#T_b63c5464_d726_11eb_adfe_784f438242d1row10_col7{\n",
       "            background-color:  #445acc;\n",
       "            color:  #f1f1f1;\n",
       "        }#T_b63c5464_d726_11eb_adfe_784f438242d1row5_col2,#T_b63c5464_d726_11eb_adfe_784f438242d1row6_col0,#T_b63c5464_d726_11eb_adfe_784f438242d1row9_col8{\n",
       "            background-color:  #506bda;\n",
       "            color:  #000000;\n",
       "        }#T_b63c5464_d726_11eb_adfe_784f438242d1row5_col3{\n",
       "            background-color:  #82a6fb;\n",
       "            color:  #000000;\n",
       "        }#T_b63c5464_d726_11eb_adfe_784f438242d1row5_col4,#T_b63c5464_d726_11eb_adfe_784f438242d1row5_col8{\n",
       "            background-color:  #86a9fc;\n",
       "            color:  #000000;\n",
       "        }#T_b63c5464_d726_11eb_adfe_784f438242d1row5_col6{\n",
       "            background-color:  #5b7ae5;\n",
       "            color:  #000000;\n",
       "        }#T_b63c5464_d726_11eb_adfe_784f438242d1row5_col7,#T_b63c5464_d726_11eb_adfe_784f438242d1row6_col4{\n",
       "            background-color:  #80a3fa;\n",
       "            color:  #000000;\n",
       "        }#T_b63c5464_d726_11eb_adfe_784f438242d1row6_col3{\n",
       "            background-color:  #6384eb;\n",
       "            color:  #000000;\n",
       "        }#T_b63c5464_d726_11eb_adfe_784f438242d1row6_col5,#T_b63c5464_d726_11eb_adfe_784f438242d1row8_col0,#T_b63c5464_d726_11eb_adfe_784f438242d1row9_col7{\n",
       "            background-color:  #5470de;\n",
       "            color:  #000000;\n",
       "        }#T_b63c5464_d726_11eb_adfe_784f438242d1row7_col0,#T_b63c5464_d726_11eb_adfe_784f438242d1row7_col5{\n",
       "            background-color:  #7b9ff9;\n",
       "            color:  #000000;\n",
       "        }#T_b63c5464_d726_11eb_adfe_784f438242d1row7_col1,#T_b63c5464_d726_11eb_adfe_784f438242d1row7_col6{\n",
       "            background-color:  #4257c9;\n",
       "            color:  #f1f1f1;\n",
       "        }#T_b63c5464_d726_11eb_adfe_784f438242d1row7_col2{\n",
       "            background-color:  #5d7ce6;\n",
       "            color:  #000000;\n",
       "        }#T_b63c5464_d726_11eb_adfe_784f438242d1row7_col3{\n",
       "            background-color:  #ebd3c6;\n",
       "            color:  #000000;\n",
       "        }#T_b63c5464_d726_11eb_adfe_784f438242d1row7_col4{\n",
       "            background-color:  #6788ee;\n",
       "            color:  #000000;\n",
       "        }#T_b63c5464_d726_11eb_adfe_784f438242d1row7_col8{\n",
       "            background-color:  #bcd2f7;\n",
       "            color:  #000000;\n",
       "        }#T_b63c5464_d726_11eb_adfe_784f438242d1row8_col2,#T_b63c5464_d726_11eb_adfe_784f438242d1row10_col4{\n",
       "            background-color:  #688aef;\n",
       "            color:  #000000;\n",
       "        }#T_b63c5464_d726_11eb_adfe_784f438242d1row8_col3{\n",
       "            background-color:  #7da0f9;\n",
       "            color:  #000000;\n",
       "        }#T_b63c5464_d726_11eb_adfe_784f438242d1row8_col4{\n",
       "            background-color:  #84a7fc;\n",
       "            color:  #000000;\n",
       "        }#T_b63c5464_d726_11eb_adfe_784f438242d1row8_col5{\n",
       "            background-color:  #8badfd;\n",
       "            color:  #000000;\n",
       "        }#T_b63c5464_d726_11eb_adfe_784f438242d1row8_col6,#T_b63c5464_d726_11eb_adfe_784f438242d1row9_col6,#T_b63c5464_d726_11eb_adfe_784f438242d1row10_col0{\n",
       "            background-color:  #4c66d6;\n",
       "            color:  #000000;\n",
       "        }#T_b63c5464_d726_11eb_adfe_784f438242d1row8_col7{\n",
       "            background-color:  #c1d4f4;\n",
       "            color:  #000000;\n",
       "        }#T_b63c5464_d726_11eb_adfe_784f438242d1row9_col2{\n",
       "            background-color:  #6687ed;\n",
       "            color:  #000000;\n",
       "        }#T_b63c5464_d726_11eb_adfe_784f438242d1row9_col3{\n",
       "            background-color:  #92b4fe;\n",
       "            color:  #000000;\n",
       "        }#T_b63c5464_d726_11eb_adfe_784f438242d1row9_col4{\n",
       "            background-color:  #779af7;\n",
       "            color:  #000000;\n",
       "        }#T_b63c5464_d726_11eb_adfe_784f438242d1row10_col2{\n",
       "            background-color:  #5977e3;\n",
       "            color:  #000000;\n",
       "        }#T_b63c5464_d726_11eb_adfe_784f438242d1row10_col3{\n",
       "            background-color:  #6c8ff1;\n",
       "            color:  #000000;\n",
       "        }</style><table id=\"T_b63c5464_d726_11eb_adfe_784f438242d1\" ><thead>    <tr>        <th class=\"blank level0\" ></th>        <th class=\"col_heading level0 col0\" >num_languages</th>        <th class=\"col_heading level0 col1\" >speaks_english</th>        <th class=\"col_heading level0 col2\" >gender_tuned</th>        <th class=\"col_heading level0 col3\" >income_level</th>        <th class=\"col_heading level0 col4\" >num_teaches</th>        <th class=\"col_heading level0 col5\" >number_sessions</th>        <th class=\"col_heading level0 col6\" >rating</th>        <th class=\"col_heading level0 col7\" >price</th>        <th class=\"col_heading level0 col8\" >is_pro</th>        <th class=\"col_heading level0 col9\" >position</th>        <th class=\"col_heading level0 col10\" >first_letter</th>    </tr></thead><tbody>\n",
       "                <tr>\n",
       "                        <th id=\"T_b63c5464_d726_11eb_adfe_784f438242d1level0_row0\" class=\"row_heading level0 row0\" >num_languages</th>\n",
       "                        <td id=\"T_b63c5464_d726_11eb_adfe_784f438242d1row0_col0\" class=\"data row0 col0\" >1.00</td>\n",
       "                        <td id=\"T_b63c5464_d726_11eb_adfe_784f438242d1row0_col1\" class=\"data row0 col1\" >0.09</td>\n",
       "                        <td id=\"T_b63c5464_d726_11eb_adfe_784f438242d1row0_col2\" class=\"data row0 col2\" >-0.08</td>\n",
       "                        <td id=\"T_b63c5464_d726_11eb_adfe_784f438242d1row0_col3\" class=\"data row0 col3\" >0.13</td>\n",
       "                        <td id=\"T_b63c5464_d726_11eb_adfe_784f438242d1row0_col4\" class=\"data row0 col4\" >-0.05</td>\n",
       "                        <td id=\"T_b63c5464_d726_11eb_adfe_784f438242d1row0_col5\" class=\"data row0 col5\" >0.05</td>\n",
       "                        <td id=\"T_b63c5464_d726_11eb_adfe_784f438242d1row0_col6\" class=\"data row0 col6\" >-0.00</td>\n",
       "                        <td id=\"T_b63c5464_d726_11eb_adfe_784f438242d1row0_col7\" class=\"data row0 col7\" >0.14</td>\n",
       "                        <td id=\"T_b63c5464_d726_11eb_adfe_784f438242d1row0_col8\" class=\"data row0 col8\" >0.01</td>\n",
       "                        <td id=\"T_b63c5464_d726_11eb_adfe_784f438242d1row0_col9\" class=\"data row0 col9\" >-0.01</td>\n",
       "                        <td id=\"T_b63c5464_d726_11eb_adfe_784f438242d1row0_col10\" class=\"data row0 col10\" >-0.02</td>\n",
       "            </tr>\n",
       "            <tr>\n",
       "                        <th id=\"T_b63c5464_d726_11eb_adfe_784f438242d1level0_row1\" class=\"row_heading level0 row1\" >speaks_english</th>\n",
       "                        <td id=\"T_b63c5464_d726_11eb_adfe_784f438242d1row1_col0\" class=\"data row1 col0\" >0.09</td>\n",
       "                        <td id=\"T_b63c5464_d726_11eb_adfe_784f438242d1row1_col1\" class=\"data row1 col1\" >1.00</td>\n",
       "                        <td id=\"T_b63c5464_d726_11eb_adfe_784f438242d1row1_col2\" class=\"data row1 col2\" >0.01</td>\n",
       "                        <td id=\"T_b63c5464_d726_11eb_adfe_784f438242d1row1_col3\" class=\"data row1 col3\" >-0.01</td>\n",
       "                        <td id=\"T_b63c5464_d726_11eb_adfe_784f438242d1row1_col4\" class=\"data row1 col4\" >0.04</td>\n",
       "                        <td id=\"T_b63c5464_d726_11eb_adfe_784f438242d1row1_col5\" class=\"data row1 col5\" >0.03</td>\n",
       "                        <td id=\"T_b63c5464_d726_11eb_adfe_784f438242d1row1_col6\" class=\"data row1 col6\" >0.02</td>\n",
       "                        <td id=\"T_b63c5464_d726_11eb_adfe_784f438242d1row1_col7\" class=\"data row1 col7\" >0.02</td>\n",
       "                        <td id=\"T_b63c5464_d726_11eb_adfe_784f438242d1row1_col8\" class=\"data row1 col8\" >0.00</td>\n",
       "                        <td id=\"T_b63c5464_d726_11eb_adfe_784f438242d1row1_col9\" class=\"data row1 col9\" >0.01</td>\n",
       "                        <td id=\"T_b63c5464_d726_11eb_adfe_784f438242d1row1_col10\" class=\"data row1 col10\" >-0.00</td>\n",
       "            </tr>\n",
       "            <tr>\n",
       "                        <th id=\"T_b63c5464_d726_11eb_adfe_784f438242d1level0_row2\" class=\"row_heading level0 row2\" >gender_tuned</th>\n",
       "                        <td id=\"T_b63c5464_d726_11eb_adfe_784f438242d1row2_col0\" class=\"data row2 col0\" >-0.08</td>\n",
       "                        <td id=\"T_b63c5464_d726_11eb_adfe_784f438242d1row2_col1\" class=\"data row2 col1\" >0.01</td>\n",
       "                        <td id=\"T_b63c5464_d726_11eb_adfe_784f438242d1row2_col2\" class=\"data row2 col2\" >1.00</td>\n",
       "                        <td id=\"T_b63c5464_d726_11eb_adfe_784f438242d1row2_col3\" class=\"data row2 col3\" >-0.06</td>\n",
       "                        <td id=\"T_b63c5464_d726_11eb_adfe_784f438242d1row2_col4\" class=\"data row2 col4\" >-0.08</td>\n",
       "                        <td id=\"T_b63c5464_d726_11eb_adfe_784f438242d1row2_col5\" class=\"data row2 col5\" >-0.00</td>\n",
       "                        <td id=\"T_b63c5464_d726_11eb_adfe_784f438242d1row2_col6\" class=\"data row2 col6\" >-0.00</td>\n",
       "                        <td id=\"T_b63c5464_d726_11eb_adfe_784f438242d1row2_col7\" class=\"data row2 col7\" >0.04</td>\n",
       "                        <td id=\"T_b63c5464_d726_11eb_adfe_784f438242d1row2_col8\" class=\"data row2 col8\" >0.08</td>\n",
       "                        <td id=\"T_b63c5464_d726_11eb_adfe_784f438242d1row2_col9\" class=\"data row2 col9\" >0.07</td>\n",
       "                        <td id=\"T_b63c5464_d726_11eb_adfe_784f438242d1row2_col10\" class=\"data row2 col10\" >0.02</td>\n",
       "            </tr>\n",
       "            <tr>\n",
       "                        <th id=\"T_b63c5464_d726_11eb_adfe_784f438242d1level0_row3\" class=\"row_heading level0 row3\" >income_level</th>\n",
       "                        <td id=\"T_b63c5464_d726_11eb_adfe_784f438242d1row3_col0\" class=\"data row3 col0\" >0.13</td>\n",
       "                        <td id=\"T_b63c5464_d726_11eb_adfe_784f438242d1row3_col1\" class=\"data row3 col1\" >-0.01</td>\n",
       "                        <td id=\"T_b63c5464_d726_11eb_adfe_784f438242d1row3_col2\" class=\"data row3 col2\" >-0.06</td>\n",
       "                        <td id=\"T_b63c5464_d726_11eb_adfe_784f438242d1row3_col3\" class=\"data row3 col3\" >1.00</td>\n",
       "                        <td id=\"T_b63c5464_d726_11eb_adfe_784f438242d1row3_col4\" class=\"data row3 col4\" >-0.20</td>\n",
       "                        <td id=\"T_b63c5464_d726_11eb_adfe_784f438242d1row3_col5\" class=\"data row3 col5\" >0.07</td>\n",
       "                        <td id=\"T_b63c5464_d726_11eb_adfe_784f438242d1row3_col6\" class=\"data row3 col6\" >-0.04</td>\n",
       "                        <td id=\"T_b63c5464_d726_11eb_adfe_784f438242d1row3_col7\" class=\"data row3 col7\" >0.47</td>\n",
       "                        <td id=\"T_b63c5464_d726_11eb_adfe_784f438242d1row3_col8\" class=\"data row3 col8\" >0.05</td>\n",
       "                        <td id=\"T_b63c5464_d726_11eb_adfe_784f438242d1row3_col9\" class=\"data row3 col9\" >0.12</td>\n",
       "                        <td id=\"T_b63c5464_d726_11eb_adfe_784f438242d1row3_col10\" class=\"data row3 col10\" >-0.01</td>\n",
       "            </tr>\n",
       "            <tr>\n",
       "                        <th id=\"T_b63c5464_d726_11eb_adfe_784f438242d1level0_row4\" class=\"row_heading level0 row4\" >num_teaches</th>\n",
       "                        <td id=\"T_b63c5464_d726_11eb_adfe_784f438242d1row4_col0\" class=\"data row4 col0\" >-0.05</td>\n",
       "                        <td id=\"T_b63c5464_d726_11eb_adfe_784f438242d1row4_col1\" class=\"data row4 col1\" >0.04</td>\n",
       "                        <td id=\"T_b63c5464_d726_11eb_adfe_784f438242d1row4_col2\" class=\"data row4 col2\" >-0.08</td>\n",
       "                        <td id=\"T_b63c5464_d726_11eb_adfe_784f438242d1row4_col3\" class=\"data row4 col3\" >-0.20</td>\n",
       "                        <td id=\"T_b63c5464_d726_11eb_adfe_784f438242d1row4_col4\" class=\"data row4 col4\" >1.00</td>\n",
       "                        <td id=\"T_b63c5464_d726_11eb_adfe_784f438242d1row4_col5\" class=\"data row4 col5\" >0.08</td>\n",
       "                        <td id=\"T_b63c5464_d726_11eb_adfe_784f438242d1row4_col6\" class=\"data row4 col6\" >0.06</td>\n",
       "                        <td id=\"T_b63c5464_d726_11eb_adfe_784f438242d1row4_col7\" class=\"data row4 col7\" >-0.03</td>\n",
       "                        <td id=\"T_b63c5464_d726_11eb_adfe_784f438242d1row4_col8\" class=\"data row4 col8\" >0.07</td>\n",
       "                        <td id=\"T_b63c5464_d726_11eb_adfe_784f438242d1row4_col9\" class=\"data row4 col9\" >0.03</td>\n",
       "                        <td id=\"T_b63c5464_d726_11eb_adfe_784f438242d1row4_col10\" class=\"data row4 col10\" >-0.02</td>\n",
       "            </tr>\n",
       "            <tr>\n",
       "                        <th id=\"T_b63c5464_d726_11eb_adfe_784f438242d1level0_row5\" class=\"row_heading level0 row5\" >number_sessions</th>\n",
       "                        <td id=\"T_b63c5464_d726_11eb_adfe_784f438242d1row5_col0\" class=\"data row5 col0\" >0.05</td>\n",
       "                        <td id=\"T_b63c5464_d726_11eb_adfe_784f438242d1row5_col1\" class=\"data row5 col1\" >0.03</td>\n",
       "                        <td id=\"T_b63c5464_d726_11eb_adfe_784f438242d1row5_col2\" class=\"data row5 col2\" >-0.00</td>\n",
       "                        <td id=\"T_b63c5464_d726_11eb_adfe_784f438242d1row5_col3\" class=\"data row5 col3\" >0.07</td>\n",
       "                        <td id=\"T_b63c5464_d726_11eb_adfe_784f438242d1row5_col4\" class=\"data row5 col4\" >0.08</td>\n",
       "                        <td id=\"T_b63c5464_d726_11eb_adfe_784f438242d1row5_col5\" class=\"data row5 col5\" >1.00</td>\n",
       "                        <td id=\"T_b63c5464_d726_11eb_adfe_784f438242d1row5_col6\" class=\"data row5 col6\" >0.07</td>\n",
       "                        <td id=\"T_b63c5464_d726_11eb_adfe_784f438242d1row5_col7\" class=\"data row5 col7\" >0.19</td>\n",
       "                        <td id=\"T_b63c5464_d726_11eb_adfe_784f438242d1row5_col8\" class=\"data row5 col8\" >0.23</td>\n",
       "                        <td id=\"T_b63c5464_d726_11eb_adfe_784f438242d1row5_col9\" class=\"data row5 col9\" >0.07</td>\n",
       "                        <td id=\"T_b63c5464_d726_11eb_adfe_784f438242d1row5_col10\" class=\"data row5 col10\" >-0.01</td>\n",
       "            </tr>\n",
       "            <tr>\n",
       "                        <th id=\"T_b63c5464_d726_11eb_adfe_784f438242d1level0_row6\" class=\"row_heading level0 row6\" >rating</th>\n",
       "                        <td id=\"T_b63c5464_d726_11eb_adfe_784f438242d1row6_col0\" class=\"data row6 col0\" >-0.00</td>\n",
       "                        <td id=\"T_b63c5464_d726_11eb_adfe_784f438242d1row6_col1\" class=\"data row6 col1\" >0.02</td>\n",
       "                        <td id=\"T_b63c5464_d726_11eb_adfe_784f438242d1row6_col2\" class=\"data row6 col2\" >-0.00</td>\n",
       "                        <td id=\"T_b63c5464_d726_11eb_adfe_784f438242d1row6_col3\" class=\"data row6 col3\" >-0.04</td>\n",
       "                        <td id=\"T_b63c5464_d726_11eb_adfe_784f438242d1row6_col4\" class=\"data row6 col4\" >0.06</td>\n",
       "                        <td id=\"T_b63c5464_d726_11eb_adfe_784f438242d1row6_col5\" class=\"data row6 col5\" >0.07</td>\n",
       "                        <td id=\"T_b63c5464_d726_11eb_adfe_784f438242d1row6_col6\" class=\"data row6 col6\" >1.00</td>\n",
       "                        <td id=\"T_b63c5464_d726_11eb_adfe_784f438242d1row6_col7\" class=\"data row6 col7\" >-0.01</td>\n",
       "                        <td id=\"T_b63c5464_d726_11eb_adfe_784f438242d1row6_col8\" class=\"data row6 col8\" >0.02</td>\n",
       "                        <td id=\"T_b63c5464_d726_11eb_adfe_784f438242d1row6_col9\" class=\"data row6 col9\" >0.02</td>\n",
       "                        <td id=\"T_b63c5464_d726_11eb_adfe_784f438242d1row6_col10\" class=\"data row6 col10\" >-0.01</td>\n",
       "            </tr>\n",
       "            <tr>\n",
       "                        <th id=\"T_b63c5464_d726_11eb_adfe_784f438242d1level0_row7\" class=\"row_heading level0 row7\" >price</th>\n",
       "                        <td id=\"T_b63c5464_d726_11eb_adfe_784f438242d1row7_col0\" class=\"data row7 col0\" >0.14</td>\n",
       "                        <td id=\"T_b63c5464_d726_11eb_adfe_784f438242d1row7_col1\" class=\"data row7 col1\" >0.02</td>\n",
       "                        <td id=\"T_b63c5464_d726_11eb_adfe_784f438242d1row7_col2\" class=\"data row7 col2\" >0.04</td>\n",
       "                        <td id=\"T_b63c5464_d726_11eb_adfe_784f438242d1row7_col3\" class=\"data row7 col3\" >0.47</td>\n",
       "                        <td id=\"T_b63c5464_d726_11eb_adfe_784f438242d1row7_col4\" class=\"data row7 col4\" >-0.03</td>\n",
       "                        <td id=\"T_b63c5464_d726_11eb_adfe_784f438242d1row7_col5\" class=\"data row7 col5\" >0.19</td>\n",
       "                        <td id=\"T_b63c5464_d726_11eb_adfe_784f438242d1row7_col6\" class=\"data row7 col6\" >-0.01</td>\n",
       "                        <td id=\"T_b63c5464_d726_11eb_adfe_784f438242d1row7_col7\" class=\"data row7 col7\" >1.00</td>\n",
       "                        <td id=\"T_b63c5464_d726_11eb_adfe_784f438242d1row7_col8\" class=\"data row7 col8\" >0.39</td>\n",
       "                        <td id=\"T_b63c5464_d726_11eb_adfe_784f438242d1row7_col9\" class=\"data row7 col9\" >0.06</td>\n",
       "                        <td id=\"T_b63c5464_d726_11eb_adfe_784f438242d1row7_col10\" class=\"data row7 col10\" >0.01</td>\n",
       "            </tr>\n",
       "            <tr>\n",
       "                        <th id=\"T_b63c5464_d726_11eb_adfe_784f438242d1level0_row8\" class=\"row_heading level0 row8\" >is_pro</th>\n",
       "                        <td id=\"T_b63c5464_d726_11eb_adfe_784f438242d1row8_col0\" class=\"data row8 col0\" >0.01</td>\n",
       "                        <td id=\"T_b63c5464_d726_11eb_adfe_784f438242d1row8_col1\" class=\"data row8 col1\" >0.00</td>\n",
       "                        <td id=\"T_b63c5464_d726_11eb_adfe_784f438242d1row8_col2\" class=\"data row8 col2\" >0.08</td>\n",
       "                        <td id=\"T_b63c5464_d726_11eb_adfe_784f438242d1row8_col3\" class=\"data row8 col3\" >0.05</td>\n",
       "                        <td id=\"T_b63c5464_d726_11eb_adfe_784f438242d1row8_col4\" class=\"data row8 col4\" >0.07</td>\n",
       "                        <td id=\"T_b63c5464_d726_11eb_adfe_784f438242d1row8_col5\" class=\"data row8 col5\" >0.23</td>\n",
       "                        <td id=\"T_b63c5464_d726_11eb_adfe_784f438242d1row8_col6\" class=\"data row8 col6\" >0.02</td>\n",
       "                        <td id=\"T_b63c5464_d726_11eb_adfe_784f438242d1row8_col7\" class=\"data row8 col7\" >0.39</td>\n",
       "                        <td id=\"T_b63c5464_d726_11eb_adfe_784f438242d1row8_col8\" class=\"data row8 col8\" >1.00</td>\n",
       "                        <td id=\"T_b63c5464_d726_11eb_adfe_784f438242d1row8_col9\" class=\"data row8 col9\" >0.07</td>\n",
       "                        <td id=\"T_b63c5464_d726_11eb_adfe_784f438242d1row8_col10\" class=\"data row8 col10\" >-0.00</td>\n",
       "            </tr>\n",
       "            <tr>\n",
       "                        <th id=\"T_b63c5464_d726_11eb_adfe_784f438242d1level0_row9\" class=\"row_heading level0 row9\" >position</th>\n",
       "                        <td id=\"T_b63c5464_d726_11eb_adfe_784f438242d1row9_col0\" class=\"data row9 col0\" >-0.01</td>\n",
       "                        <td id=\"T_b63c5464_d726_11eb_adfe_784f438242d1row9_col1\" class=\"data row9 col1\" >0.01</td>\n",
       "                        <td id=\"T_b63c5464_d726_11eb_adfe_784f438242d1row9_col2\" class=\"data row9 col2\" >0.07</td>\n",
       "                        <td id=\"T_b63c5464_d726_11eb_adfe_784f438242d1row9_col3\" class=\"data row9 col3\" >0.12</td>\n",
       "                        <td id=\"T_b63c5464_d726_11eb_adfe_784f438242d1row9_col4\" class=\"data row9 col4\" >0.03</td>\n",
       "                        <td id=\"T_b63c5464_d726_11eb_adfe_784f438242d1row9_col5\" class=\"data row9 col5\" >0.07</td>\n",
       "                        <td id=\"T_b63c5464_d726_11eb_adfe_784f438242d1row9_col6\" class=\"data row9 col6\" >0.02</td>\n",
       "                        <td id=\"T_b63c5464_d726_11eb_adfe_784f438242d1row9_col7\" class=\"data row9 col7\" >0.06</td>\n",
       "                        <td id=\"T_b63c5464_d726_11eb_adfe_784f438242d1row9_col8\" class=\"data row9 col8\" >0.07</td>\n",
       "                        <td id=\"T_b63c5464_d726_11eb_adfe_784f438242d1row9_col9\" class=\"data row9 col9\" >1.00</td>\n",
       "                        <td id=\"T_b63c5464_d726_11eb_adfe_784f438242d1row9_col10\" class=\"data row9 col10\" >-0.00</td>\n",
       "            </tr>\n",
       "            <tr>\n",
       "                        <th id=\"T_b63c5464_d726_11eb_adfe_784f438242d1level0_row10\" class=\"row_heading level0 row10\" >first_letter</th>\n",
       "                        <td id=\"T_b63c5464_d726_11eb_adfe_784f438242d1row10_col0\" class=\"data row10 col0\" >-0.02</td>\n",
       "                        <td id=\"T_b63c5464_d726_11eb_adfe_784f438242d1row10_col1\" class=\"data row10 col1\" >-0.00</td>\n",
       "                        <td id=\"T_b63c5464_d726_11eb_adfe_784f438242d1row10_col2\" class=\"data row10 col2\" >0.02</td>\n",
       "                        <td id=\"T_b63c5464_d726_11eb_adfe_784f438242d1row10_col3\" class=\"data row10 col3\" >-0.01</td>\n",
       "                        <td id=\"T_b63c5464_d726_11eb_adfe_784f438242d1row10_col4\" class=\"data row10 col4\" >-0.02</td>\n",
       "                        <td id=\"T_b63c5464_d726_11eb_adfe_784f438242d1row10_col5\" class=\"data row10 col5\" >-0.01</td>\n",
       "                        <td id=\"T_b63c5464_d726_11eb_adfe_784f438242d1row10_col6\" class=\"data row10 col6\" >-0.01</td>\n",
       "                        <td id=\"T_b63c5464_d726_11eb_adfe_784f438242d1row10_col7\" class=\"data row10 col7\" >0.01</td>\n",
       "                        <td id=\"T_b63c5464_d726_11eb_adfe_784f438242d1row10_col8\" class=\"data row10 col8\" >-0.00</td>\n",
       "                        <td id=\"T_b63c5464_d726_11eb_adfe_784f438242d1row10_col9\" class=\"data row10 col9\" >-0.00</td>\n",
       "                        <td id=\"T_b63c5464_d726_11eb_adfe_784f438242d1row10_col10\" class=\"data row10 col10\" >1.00</td>\n",
       "            </tr>\n",
       "    </tbody></table>"
      ],
      "text/plain": [
       "<pandas.io.formats.style.Styler at 0x7fa9f207ec10>"
      ]
     },
     "execution_count": 8,
     "metadata": {},
     "output_type": "execute_result"
    }
   ],
   "source": [
    "import matplotlib.pyplot as plt\n",
    "\n",
    "italki.corr().style.background_gradient(cmap='coolwarm').set_precision(2)"
   ]
  },
  {
   "cell_type": "code",
   "execution_count": 9,
   "metadata": {},
   "outputs": [
    {
     "data": {
      "text/plain": [
       "array([[ 1.        ,  1.        ,  0.        , ...,  0.        ,\n",
       "        -0.95783387,  0.96      ],\n",
       "       [ 3.        ,  1.        ,  1.        , ...,  0.        ,\n",
       "        -0.53909403,  0.        ],\n",
       "       [ 1.        ,  0.        ,  1.        , ...,  0.        ,\n",
       "        -0.67867398,  0.48      ],\n",
       "       ...,\n",
       "       [ 1.        ,  1.        ,  1.        , ...,  0.        ,\n",
       "        -1.1672038 ,  0.2       ],\n",
       "       [ 1.        ,  1.        ,  1.        , ...,  0.        ,\n",
       "        -1.23699377,  0.        ],\n",
       "       [ 0.        ,  1.        ,  0.        , ...,  1.        ,\n",
       "         0.01922577,  0.68      ]])"
      ]
     },
     "execution_count": 9,
     "metadata": {},
     "output_type": "execute_result"
    }
   ],
   "source": [
    "X"
   ]
  },
  {
   "cell_type": "code",
   "execution_count": 10,
   "metadata": {},
   "outputs": [
    {
     "data": {
      "text/plain": [
       "array([  2,   3,   4, ..., 100, 116, 117])"
      ]
     },
     "execution_count": 10,
     "metadata": {},
     "output_type": "execute_result"
    }
   ],
   "source": [
    "y"
   ]
  },
  {
   "cell_type": "code",
   "execution_count": 139,
   "metadata": {},
   "outputs": [],
   "source": [
    "from sklearn.model_selection import train_test_split\n",
    "X_train, X_test, y_train, y_test = train_test_split(X, y, test_size=0.2, random_state=42)"
   ]
  },
  {
   "cell_type": "code",
   "execution_count": 140,
   "metadata": {},
   "outputs": [],
   "source": [
    "from sklearn.linear_model import LinearRegression\n",
    "lin_reg = LinearRegression().fit(X_train, y_train)"
   ]
  },
  {
   "cell_type": "code",
   "execution_count": 141,
   "metadata": {},
   "outputs": [],
   "source": [
    "import seaborn as sns\n",
    "def plot_regression(y_test, y_pred):\n",
    "    plot_df = pd.DataFrame()\n",
    "    plot_df['y_true'] = y_test\n",
    "    plot_df['y_pred'] = y_pred\n",
    "    sns.lmplot(x='y_true',y='y_pred', data=plot_df, fit_reg=True)"
   ]
  },
  {
   "cell_type": "code",
   "execution_count": 142,
   "metadata": {},
   "outputs": [],
   "source": [
    "y_hat = lin_reg.predict(X_test)"
   ]
  },
  {
   "cell_type": "code",
   "execution_count": 143,
   "metadata": {},
   "outputs": [
    {
     "data": {
      "text/plain": [
       "array([175.27673202, 184.47526681, 146.54448423])"
      ]
     },
     "execution_count": 143,
     "metadata": {},
     "output_type": "execute_result"
    }
   ],
   "source": [
    "y_hat[:3]"
   ]
  },
  {
   "cell_type": "code",
   "execution_count": 144,
   "metadata": {},
   "outputs": [
    {
     "data": {
      "image/png": "[encoded data removed]",
      "text/plain": [
       "<Figure size 360x360 with 1 Axes>"
      ]
     },
     "metadata": {
      "needs_background": "light"
     },
     "output_type": "display_data"
    }
   ],
   "source": [
    "plot_regression(y_test, y_hat)"
   ]
  },
  {
   "cell_type": "code",
   "execution_count": 145,
   "metadata": {},
   "outputs": [
    {
     "data": {
      "text/plain": [
       "0.02690811126705095"
      ]
     },
     "execution_count": 145,
     "metadata": {},
     "output_type": "execute_result"
    }
   ],
   "source": [
    "from sklearn.metrics import r2_score\n",
    "\n",
    "r2_score(y_test, y_hat)"
   ]
  },
  {
   "cell_type": "code",
   "execution_count": 146,
   "metadata": {},
   "outputs": [],
   "source": [
    "# XGBoost Regressor"
   ]
  },
  {
   "cell_type": "code",
   "execution_count": 147,
   "metadata": {},
   "outputs": [],
   "source": [
    "import xgboost"
   ]
  },
  {
   "cell_type": "code",
   "execution_count": 148,
   "metadata": {},
   "outputs": [],
   "source": [
    "xgb = xgboost.XGBRegressor(learning_rate=0.1,\n",
    "                 max_depth=5,\n",
    "                 n_estimators=150)"
   ]
  },
  {
   "cell_type": "code",
   "execution_count": 149,
   "metadata": {},
   "outputs": [
    {
     "data": {
      "text/plain": [
       "XGBRegressor(base_score=0.5, booster='gbtree', colsample_bylevel=1,\n",
       "             colsample_bynode=1, colsample_bytree=1, gamma=0, gpu_id=-1,\n",
       "             importance_type='gain', interaction_constraints='',\n",
       "             learning_rate=0.1, max_delta_step=0, max_depth=5,\n",
       "             min_child_weight=1, missing=nan, monotone_constraints='()',\n",
       "             n_estimators=150, n_jobs=4, num_parallel_tree=1, random_state=0,\n",
       "             reg_alpha=0, reg_lambda=1, scale_pos_weight=1, subsample=1,\n",
       "             tree_method='exact', validate_parameters=1, verbosity=None)"
      ]
     },
     "execution_count": 149,
     "metadata": {},
     "output_type": "execute_result"
    }
   ],
   "source": [
    "xgb.fit(X_train, y_train)"
   ]
  },
  {
   "cell_type": "code",
   "execution_count": 150,
   "metadata": {},
   "outputs": [],
   "source": [
    "y_hat = xgb.predict(X_test)"
   ]
  },
  {
   "cell_type": "code",
   "execution_count": 151,
   "metadata": {},
   "outputs": [
    {
     "data": {
      "text/plain": [
       "array([ 84.345184, 168.6951  , 100.238716], dtype=float32)"
      ]
     },
     "execution_count": 151,
     "metadata": {},
     "output_type": "execute_result"
    }
   ],
   "source": [
    "y_hat[:3]"
   ]
  },
  {
   "cell_type": "code",
   "execution_count": 152,
   "metadata": {},
   "outputs": [
    {
     "data": {
      "image/png": "[encoded data removed]",
      "text/plain": [
       "<Figure size 360x360 with 1 Axes>"
      ]
     },
     "metadata": {
      "needs_background": "light"
     },
     "output_type": "display_data"
    }
   ],
   "source": [
    "plot_regression(y_test, y_hat)"
   ]
  },
  {
   "cell_type": "code",
   "execution_count": 153,
   "metadata": {},
   "outputs": [
    {
     "data": {
      "text/plain": [
       "0.1190194901216769"
      ]
     },
     "execution_count": 153,
     "metadata": {},
     "output_type": "execute_result"
    }
   ],
   "source": [
    "from sklearn.metrics import r2_score\n",
    "\n",
    "r2_score(y_test, y_hat)"
   ]
  },
  {
   "cell_type": "code",
   "execution_count": null,
   "metadata": {},
   "outputs": [],
   "source": []
  }
 ],
 "metadata": {
  "kernelspec": {
   "display_name": "Python 3",
   "language": "python",
   "name": "python3"
  },
  "language_info": {
   "codemirror_mode": {
    "name": "ipython",
    "version": 3
   },
   "file_extension": ".py",
   "mimetype": "text/x-python",
   "name": "python",
   "nbconvert_exporter": "python",
   "pygments_lexer": "ipython3",
   "version": "3.8.5"
  }
 },
 "nbformat": 4,
 "nbformat_minor": 4
}
