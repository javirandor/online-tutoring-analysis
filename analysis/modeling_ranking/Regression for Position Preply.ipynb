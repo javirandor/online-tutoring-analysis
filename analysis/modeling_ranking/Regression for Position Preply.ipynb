{
 "cells": [
  {
   "cell_type": "code",
   "execution_count": 6,
   "metadata": {},
   "outputs": [],
   "source": [
    "import pandas as pd"
   ]
  },
  {
   "cell_type": "markdown",
   "metadata": {},
   "source": [
    "# Regression for Preply position"
   ]
  },
  {
   "cell_type": "code",
   "execution_count": 6,
   "metadata": {},
   "outputs": [],
   "source": [
    "preply = pd.read_csv('../../data/model_ranking/preply.csv', index_col=0)"
   ]
  },
  {
   "cell_type": "code",
   "execution_count": 7,
   "metadata": {},
   "outputs": [
    {
     "data": {
      "text/html": [
       "<div>\n",
       "<style scoped>\n",
       "    .dataframe tbody tr th:only-of-type {\n",
       "        vertical-align: middle;\n",
       "    }\n",
       "\n",
       "    .dataframe tbody tr th {\n",
       "        vertical-align: top;\n",
       "    }\n",
       "\n",
       "    .dataframe thead th {\n",
       "        text-align: right;\n",
       "    }\n",
       "</style>\n",
       "<table border=\"1\" class=\"dataframe\">\n",
       "  <thead>\n",
       "    <tr style=\"text-align: right;\">\n",
       "      <th></th>\n",
       "      <th>num_languages</th>\n",
       "      <th>speaks_english</th>\n",
       "      <th>gender_tuned</th>\n",
       "      <th>income_level</th>\n",
       "      <th>num_teaches</th>\n",
       "      <th>num_ratings</th>\n",
       "      <th>avg_rating</th>\n",
       "      <th>price</th>\n",
       "      <th>is_featured</th>\n",
       "      <th>first_letter</th>\n",
       "      <th>position</th>\n",
       "    </tr>\n",
       "  </thead>\n",
       "  <tbody>\n",
       "    <tr>\n",
       "      <th>4124</th>\n",
       "      <td>2</td>\n",
       "      <td>1</td>\n",
       "      <td>1</td>\n",
       "      <td>-0.625665</td>\n",
       "      <td>1</td>\n",
       "      <td>4.0</td>\n",
       "      <td>4.9</td>\n",
       "      <td>0.733894</td>\n",
       "      <td>1</td>\n",
       "      <td>0.72</td>\n",
       "      <td>1</td>\n",
       "    </tr>\n",
       "    <tr>\n",
       "      <th>6485</th>\n",
       "      <td>2</td>\n",
       "      <td>1</td>\n",
       "      <td>0</td>\n",
       "      <td>0.504677</td>\n",
       "      <td>1</td>\n",
       "      <td>0.0</td>\n",
       "      <td>0.0</td>\n",
       "      <td>-0.553682</td>\n",
       "      <td>1</td>\n",
       "      <td>0.36</td>\n",
       "      <td>1</td>\n",
       "    </tr>\n",
       "    <tr>\n",
       "      <th>41</th>\n",
       "      <td>2</td>\n",
       "      <td>1</td>\n",
       "      <td>0</td>\n",
       "      <td>-0.825237</td>\n",
       "      <td>1</td>\n",
       "      <td>1.0</td>\n",
       "      <td>5.0</td>\n",
       "      <td>-0.296167</td>\n",
       "      <td>1</td>\n",
       "      <td>0.60</td>\n",
       "      <td>1</td>\n",
       "    </tr>\n",
       "    <tr>\n",
       "      <th>2470</th>\n",
       "      <td>3</td>\n",
       "      <td>1</td>\n",
       "      <td>1</td>\n",
       "      <td>-0.173776</td>\n",
       "      <td>1</td>\n",
       "      <td>21.0</td>\n",
       "      <td>4.9</td>\n",
       "      <td>1.248924</td>\n",
       "      <td>1</td>\n",
       "      <td>0.12</td>\n",
       "      <td>1</td>\n",
       "    </tr>\n",
       "    <tr>\n",
       "      <th>344</th>\n",
       "      <td>3</td>\n",
       "      <td>1</td>\n",
       "      <td>1</td>\n",
       "      <td>3.278941</td>\n",
       "      <td>1</td>\n",
       "      <td>4.0</td>\n",
       "      <td>5.0</td>\n",
       "      <td>3.952833</td>\n",
       "      <td>1</td>\n",
       "      <td>0.52</td>\n",
       "      <td>1</td>\n",
       "    </tr>\n",
       "  </tbody>\n",
       "</table>\n",
       "</div>"
      ],
      "text/plain": [
       "      num_languages  speaks_english  gender_tuned  income_level  num_teaches  \\\n",
       "4124              2               1             1     -0.625665            1   \n",
       "6485              2               1             0      0.504677            1   \n",
       "41                2               1             0     -0.825237            1   \n",
       "2470              3               1             1     -0.173776            1   \n",
       "344               3               1             1      3.278941            1   \n",
       "\n",
       "      num_ratings  avg_rating     price  is_featured  first_letter  position  \n",
       "4124          4.0         4.9  0.733894            1          0.72         1  \n",
       "6485          0.0         0.0 -0.553682            1          0.36         1  \n",
       "41            1.0         5.0 -0.296167            1          0.60         1  \n",
       "2470         21.0         4.9  1.248924            1          0.12         1  \n",
       "344           4.0         5.0  3.952833            1          0.52         1  "
      ]
     },
     "execution_count": 7,
     "metadata": {},
     "output_type": "execute_result"
    }
   ],
   "source": [
    "preply.head()"
   ]
  },
  {
   "cell_type": "code",
   "execution_count": 9,
   "metadata": {},
   "outputs": [
    {
     "data": {
      "text/plain": [
       "(6296, 11)"
      ]
     },
     "execution_count": 9,
     "metadata": {},
     "output_type": "execute_result"
    }
   ],
   "source": [
    "preply.shape"
   ]
  },
  {
   "cell_type": "code",
   "execution_count": 10,
   "metadata": {},
   "outputs": [],
   "source": [
    "X = preply[['num_languages', 'speaks_english', 'gender_tuned', 'income_level', 'num_teaches', 'num_ratings', 'avg_rating', 'price', 'first_letter']].values\n",
    "y = preply['position'].values"
   ]
  },
  {
   "cell_type": "code",
   "execution_count": 12,
   "metadata": {},
   "outputs": [
    {
     "data": {
      "text/html": [
       "<style  type=\"text/css\" >\n",
       "#T_ee5082c6_d726_11eb_b4e6_784f438242d1row0_col0,#T_ee5082c6_d726_11eb_b4e6_784f438242d1row1_col1,#T_ee5082c6_d726_11eb_b4e6_784f438242d1row2_col2,#T_ee5082c6_d726_11eb_b4e6_784f438242d1row3_col3,#T_ee5082c6_d726_11eb_b4e6_784f438242d1row4_col4,#T_ee5082c6_d726_11eb_b4e6_784f438242d1row5_col5,#T_ee5082c6_d726_11eb_b4e6_784f438242d1row6_col6,#T_ee5082c6_d726_11eb_b4e6_784f438242d1row7_col7,#T_ee5082c6_d726_11eb_b4e6_784f438242d1row8_col8,#T_ee5082c6_d726_11eb_b4e6_784f438242d1row9_col9,#T_ee5082c6_d726_11eb_b4e6_784f438242d1row10_col10{\n",
       "            background-color:  #b40426;\n",
       "            color:  #f1f1f1;\n",
       "        }#T_ee5082c6_d726_11eb_b4e6_784f438242d1row0_col1{\n",
       "            background-color:  #9fbfff;\n",
       "            color:  #000000;\n",
       "        }#T_ee5082c6_d726_11eb_b4e6_784f438242d1row0_col2{\n",
       "            background-color:  #4358cb;\n",
       "            color:  #f1f1f1;\n",
       "        }#T_ee5082c6_d726_11eb_b4e6_784f438242d1row0_col3,#T_ee5082c6_d726_11eb_b4e6_784f438242d1row1_col7{\n",
       "            background-color:  #5875e1;\n",
       "            color:  #000000;\n",
       "        }#T_ee5082c6_d726_11eb_b4e6_784f438242d1row0_col4{\n",
       "            background-color:  #d2dbe8;\n",
       "            color:  #000000;\n",
       "        }#T_ee5082c6_d726_11eb_b4e6_784f438242d1row0_col5{\n",
       "            background-color:  #7b9ff9;\n",
       "            color:  #000000;\n",
       "        }#T_ee5082c6_d726_11eb_b4e6_784f438242d1row0_col6,#T_ee5082c6_d726_11eb_b4e6_784f438242d1row5_col8,#T_ee5082c6_d726_11eb_b4e6_784f438242d1row7_col5{\n",
       "            background-color:  #799cf8;\n",
       "            color:  #000000;\n",
       "        }#T_ee5082c6_d726_11eb_b4e6_784f438242d1row0_col7,#T_ee5082c6_d726_11eb_b4e6_784f438242d1row3_col10,#T_ee5082c6_d726_11eb_b4e6_784f438242d1row6_col1,#T_ee5082c6_d726_11eb_b4e6_784f438242d1row7_col8{\n",
       "            background-color:  #6e90f2;\n",
       "            color:  #000000;\n",
       "        }#T_ee5082c6_d726_11eb_b4e6_784f438242d1row0_col8,#T_ee5082c6_d726_11eb_b4e6_784f438242d1row6_col0,#T_ee5082c6_d726_11eb_b4e6_784f438242d1row6_col7{\n",
       "            background-color:  #6687ed;\n",
       "            color:  #000000;\n",
       "        }#T_ee5082c6_d726_11eb_b4e6_784f438242d1row0_col9,#T_ee5082c6_d726_11eb_b4e6_784f438242d1row9_col7{\n",
       "            background-color:  #4055c8;\n",
       "            color:  #f1f1f1;\n",
       "        }#T_ee5082c6_d726_11eb_b4e6_784f438242d1row0_col10,#T_ee5082c6_d726_11eb_b4e6_784f438242d1row8_col0,#T_ee5082c6_d726_11eb_b4e6_784f438242d1row9_col10{\n",
       "            background-color:  #536edd;\n",
       "            color:  #000000;\n",
       "        }#T_ee5082c6_d726_11eb_b4e6_784f438242d1row1_col0{\n",
       "            background-color:  #9abbff;\n",
       "            color:  #000000;\n",
       "        }#T_ee5082c6_d726_11eb_b4e6_784f438242d1row1_col2{\n",
       "            background-color:  #465ecf;\n",
       "            color:  #f1f1f1;\n",
       "        }#T_ee5082c6_d726_11eb_b4e6_784f438242d1row1_col3,#T_ee5082c6_d726_11eb_b4e6_784f438242d1row3_col9,#T_ee5082c6_d726_11eb_b4e6_784f438242d1row8_col1,#T_ee5082c6_d726_11eb_b4e6_784f438242d1row8_col3,#T_ee5082c6_d726_11eb_b4e6_784f438242d1row8_col4{\n",
       "            background-color:  #5673e0;\n",
       "            color:  #000000;\n",
       "        }#T_ee5082c6_d726_11eb_b4e6_784f438242d1row1_col4,#T_ee5082c6_d726_11eb_b4e6_784f438242d1row4_col8{\n",
       "            background-color:  #5e7de7;\n",
       "            color:  #000000;\n",
       "        }#T_ee5082c6_d726_11eb_b4e6_784f438242d1row1_col5{\n",
       "            background-color:  #6a8bef;\n",
       "            color:  #000000;\n",
       "        }#T_ee5082c6_d726_11eb_b4e6_784f438242d1row1_col6,#T_ee5082c6_d726_11eb_b4e6_784f438242d1row7_col6{\n",
       "            background-color:  #7a9df8;\n",
       "            color:  #000000;\n",
       "        }#T_ee5082c6_d726_11eb_b4e6_784f438242d1row1_col8,#T_ee5082c6_d726_11eb_b4e6_784f438242d1row2_col8{\n",
       "            background-color:  #6384eb;\n",
       "            color:  #000000;\n",
       "        }#T_ee5082c6_d726_11eb_b4e6_784f438242d1row1_col9,#T_ee5082c6_d726_11eb_b4e6_784f438242d1row3_col4,#T_ee5082c6_d726_11eb_b4e6_784f438242d1row3_col5,#T_ee5082c6_d726_11eb_b4e6_784f438242d1row5_col2,#T_ee5082c6_d726_11eb_b4e6_784f438242d1row5_col3,#T_ee5082c6_d726_11eb_b4e6_784f438242d1row6_col10,#T_ee5082c6_d726_11eb_b4e6_784f438242d1row8_col10,#T_ee5082c6_d726_11eb_b4e6_784f438242d1row9_col0,#T_ee5082c6_d726_11eb_b4e6_784f438242d1row9_col1,#T_ee5082c6_d726_11eb_b4e6_784f438242d1row10_col6,#T_ee5082c6_d726_11eb_b4e6_784f438242d1row10_col7,#T_ee5082c6_d726_11eb_b4e6_784f438242d1row10_col8{\n",
       "            background-color:  #3b4cc0;\n",
       "            color:  #f1f1f1;\n",
       "        }#T_ee5082c6_d726_11eb_b4e6_784f438242d1row1_col10,#T_ee5082c6_d726_11eb_b4e6_784f438242d1row2_col3{\n",
       "            background-color:  #4a63d3;\n",
       "            color:  #f1f1f1;\n",
       "        }#T_ee5082c6_d726_11eb_b4e6_784f438242d1row2_col0{\n",
       "            background-color:  #3d50c3;\n",
       "            color:  #f1f1f1;\n",
       "        }#T_ee5082c6_d726_11eb_b4e6_784f438242d1row2_col1,#T_ee5082c6_d726_11eb_b4e6_784f438242d1row3_col0,#T_ee5082c6_d726_11eb_b4e6_784f438242d1row4_col9,#T_ee5082c6_d726_11eb_b4e6_784f438242d1row5_col9{\n",
       "            background-color:  #485fd1;\n",
       "            color:  #f1f1f1;\n",
       "        }#T_ee5082c6_d726_11eb_b4e6_784f438242d1row2_col4{\n",
       "            background-color:  #4b64d5;\n",
       "            color:  #f1f1f1;\n",
       "        }#T_ee5082c6_d726_11eb_b4e6_784f438242d1row2_col5{\n",
       "            background-color:  #445acc;\n",
       "            color:  #f1f1f1;\n",
       "        }#T_ee5082c6_d726_11eb_b4e6_784f438242d1row2_col6,#T_ee5082c6_d726_11eb_b4e6_784f438242d1row9_col8{\n",
       "            background-color:  #5d7ce6;\n",
       "            color:  #000000;\n",
       "        }#T_ee5082c6_d726_11eb_b4e6_784f438242d1row2_col7{\n",
       "            background-color:  #5b7ae5;\n",
       "            color:  #000000;\n",
       "        }#T_ee5082c6_d726_11eb_b4e6_784f438242d1row2_col9,#T_ee5082c6_d726_11eb_b4e6_784f438242d1row3_col6,#T_ee5082c6_d726_11eb_b4e6_784f438242d1row9_col5{\n",
       "            background-color:  #516ddb;\n",
       "            color:  #000000;\n",
       "        }#T_ee5082c6_d726_11eb_b4e6_784f438242d1row2_col10,#T_ee5082c6_d726_11eb_b4e6_784f438242d1row4_col10,#T_ee5082c6_d726_11eb_b4e6_784f438242d1row7_col1,#T_ee5082c6_d726_11eb_b4e6_784f438242d1row9_col3{\n",
       "            background-color:  #5f7fe8;\n",
       "            color:  #000000;\n",
       "        }#T_ee5082c6_d726_11eb_b4e6_784f438242d1row3_col1,#T_ee5082c6_d726_11eb_b4e6_784f438242d1row5_col10{\n",
       "            background-color:  #4c66d6;\n",
       "            color:  #000000;\n",
       "        }#T_ee5082c6_d726_11eb_b4e6_784f438242d1row3_col2{\n",
       "            background-color:  #3f53c6;\n",
       "            color:  #f1f1f1;\n",
       "        }#T_ee5082c6_d726_11eb_b4e6_784f438242d1row3_col7{\n",
       "            background-color:  #c6d6f1;\n",
       "            color:  #000000;\n",
       "        }#T_ee5082c6_d726_11eb_b4e6_784f438242d1row3_col8{\n",
       "            background-color:  #5a78e4;\n",
       "            color:  #000000;\n",
       "        }#T_ee5082c6_d726_11eb_b4e6_784f438242d1row4_col0{\n",
       "            background-color:  #cad8ef;\n",
       "            color:  #000000;\n",
       "        }#T_ee5082c6_d726_11eb_b4e6_784f438242d1row4_col1,#T_ee5082c6_d726_11eb_b4e6_784f438242d1row4_col7,#T_ee5082c6_d726_11eb_b4e6_784f438242d1row8_col7,#T_ee5082c6_d726_11eb_b4e6_784f438242d1row10_col4{\n",
       "            background-color:  #5977e3;\n",
       "            color:  #000000;\n",
       "        }#T_ee5082c6_d726_11eb_b4e6_784f438242d1row4_col2,#T_ee5082c6_d726_11eb_b4e6_784f438242d1row10_col9{\n",
       "            background-color:  #455cce;\n",
       "            color:  #f1f1f1;\n",
       "        }#T_ee5082c6_d726_11eb_b4e6_784f438242d1row4_col3,#T_ee5082c6_d726_11eb_b4e6_784f438242d1row10_col0{\n",
       "            background-color:  #3e51c5;\n",
       "            color:  #f1f1f1;\n",
       "        }#T_ee5082c6_d726_11eb_b4e6_784f438242d1row4_col5{\n",
       "            background-color:  #bad0f8;\n",
       "            color:  #000000;\n",
       "        }#T_ee5082c6_d726_11eb_b4e6_784f438242d1row4_col6{\n",
       "            background-color:  #89acfd;\n",
       "            color:  #000000;\n",
       "        }#T_ee5082c6_d726_11eb_b4e6_784f438242d1row5_col0,#T_ee5082c6_d726_11eb_b4e6_784f438242d1row10_col3{\n",
       "            background-color:  #6b8df0;\n",
       "            color:  #000000;\n",
       "        }#T_ee5082c6_d726_11eb_b4e6_784f438242d1row5_col1{\n",
       "            background-color:  #6180e9;\n",
       "            color:  #000000;\n",
       "        }#T_ee5082c6_d726_11eb_b4e6_784f438242d1row5_col4{\n",
       "            background-color:  #b7cff9;\n",
       "            color:  #000000;\n",
       "        }#T_ee5082c6_d726_11eb_b4e6_784f438242d1row5_col6{\n",
       "            background-color:  #c4d5f3;\n",
       "            color:  #000000;\n",
       "        }#T_ee5082c6_d726_11eb_b4e6_784f438242d1row5_col7,#T_ee5082c6_d726_11eb_b4e6_784f438242d1row7_col4{\n",
       "            background-color:  #6788ee;\n",
       "            color:  #000000;\n",
       "        }#T_ee5082c6_d726_11eb_b4e6_784f438242d1row6_col2,#T_ee5082c6_d726_11eb_b4e6_784f438242d1row7_col10,#T_ee5082c6_d726_11eb_b4e6_784f438242d1row8_col9{\n",
       "            background-color:  #4f69d9;\n",
       "            color:  #000000;\n",
       "        }#T_ee5082c6_d726_11eb_b4e6_784f438242d1row6_col3,#T_ee5082c6_d726_11eb_b4e6_784f438242d1row9_col4{\n",
       "            background-color:  #4e68d8;\n",
       "            color:  #000000;\n",
       "        }#T_ee5082c6_d726_11eb_b4e6_784f438242d1row6_col4{\n",
       "            background-color:  #82a6fb;\n",
       "            color:  #000000;\n",
       "        }#T_ee5082c6_d726_11eb_b4e6_784f438242d1row6_col5{\n",
       "            background-color:  #c3d5f4;\n",
       "            color:  #000000;\n",
       "        }#T_ee5082c6_d726_11eb_b4e6_784f438242d1row6_col8,#T_ee5082c6_d726_11eb_b4e6_784f438242d1row8_col6{\n",
       "            background-color:  #6c8ff1;\n",
       "            color:  #000000;\n",
       "        }#T_ee5082c6_d726_11eb_b4e6_784f438242d1row6_col9,#T_ee5082c6_d726_11eb_b4e6_784f438242d1row7_col9,#T_ee5082c6_d726_11eb_b4e6_784f438242d1row10_col5{\n",
       "            background-color:  #4961d2;\n",
       "            color:  #f1f1f1;\n",
       "        }#T_ee5082c6_d726_11eb_b4e6_784f438242d1row7_col0{\n",
       "            background-color:  #6f92f3;\n",
       "            color:  #000000;\n",
       "        }#T_ee5082c6_d726_11eb_b4e6_784f438242d1row7_col2{\n",
       "            background-color:  #6282ea;\n",
       "            color:  #000000;\n",
       "        }#T_ee5082c6_d726_11eb_b4e6_784f438242d1row7_col3{\n",
       "            background-color:  #cfdaea;\n",
       "            color:  #000000;\n",
       "        }#T_ee5082c6_d726_11eb_b4e6_784f438242d1row8_col2,#T_ee5082c6_d726_11eb_b4e6_784f438242d1row9_col6{\n",
       "            background-color:  #5572df;\n",
       "            color:  #000000;\n",
       "        }#T_ee5082c6_d726_11eb_b4e6_784f438242d1row8_col5{\n",
       "            background-color:  #7597f6;\n",
       "            color:  #000000;\n",
       "        }#T_ee5082c6_d726_11eb_b4e6_784f438242d1row9_col2,#T_ee5082c6_d726_11eb_b4e6_784f438242d1row10_col2{\n",
       "            background-color:  #506bda;\n",
       "            color:  #000000;\n",
       "        }#T_ee5082c6_d726_11eb_b4e6_784f438242d1row10_col1{\n",
       "            background-color:  #3c4ec2;\n",
       "            color:  #f1f1f1;\n",
       "        }</style><table id=\"T_ee5082c6_d726_11eb_b4e6_784f438242d1\" ><thead>    <tr>        <th class=\"blank level0\" ></th>        <th class=\"col_heading level0 col0\" >num_languages</th>        <th class=\"col_heading level0 col1\" >speaks_english</th>        <th class=\"col_heading level0 col2\" >gender_tuned</th>        <th class=\"col_heading level0 col3\" >income_level</th>        <th class=\"col_heading level0 col4\" >num_teaches</th>        <th class=\"col_heading level0 col5\" >num_ratings</th>        <th class=\"col_heading level0 col6\" >avg_rating</th>        <th class=\"col_heading level0 col7\" >price</th>        <th class=\"col_heading level0 col8\" >is_featured</th>        <th class=\"col_heading level0 col9\" >first_letter</th>        <th class=\"col_heading level0 col10\" >position</th>    </tr></thead><tbody>\n",
       "                <tr>\n",
       "                        <th id=\"T_ee5082c6_d726_11eb_b4e6_784f438242d1level0_row0\" class=\"row_heading level0 row0\" >num_languages</th>\n",
       "                        <td id=\"T_ee5082c6_d726_11eb_b4e6_784f438242d1row0_col0\" class=\"data row0 col0\" >1.000000</td>\n",
       "                        <td id=\"T_ee5082c6_d726_11eb_b4e6_784f438242d1row0_col1\" class=\"data row0 col1\" >0.252479</td>\n",
       "                        <td id=\"T_ee5082c6_d726_11eb_b4e6_784f438242d1row0_col2\" class=\"data row0 col2\" >-0.042109</td>\n",
       "                        <td id=\"T_ee5082c6_d726_11eb_b4e6_784f438242d1row0_col3\" class=\"data row0 col3\" >-0.004835</td>\n",
       "                        <td id=\"T_ee5082c6_d726_11eb_b4e6_784f438242d1row0_col4\" class=\"data row0 col4\" >0.404614</td>\n",
       "                        <td id=\"T_ee5082c6_d726_11eb_b4e6_784f438242d1row0_col5\" class=\"data row0 col5\" >0.111718</td>\n",
       "                        <td id=\"T_ee5082c6_d726_11eb_b4e6_784f438242d1row0_col6\" class=\"data row0 col6\" >0.096309</td>\n",
       "                        <td id=\"T_ee5082c6_d726_11eb_b4e6_784f438242d1row0_col7\" class=\"data row0 col7\" >0.123420</td>\n",
       "                        <td id=\"T_ee5082c6_d726_11eb_b4e6_784f438242d1row0_col8\" class=\"data row0 col8\" >0.032918</td>\n",
       "                        <td id=\"T_ee5082c6_d726_11eb_b4e6_784f438242d1row0_col9\" class=\"data row0 col9\" >-0.050673</td>\n",
       "                        <td id=\"T_ee5082c6_d726_11eb_b4e6_784f438242d1row0_col10\" class=\"data row0 col10\" >-0.036586</td>\n",
       "            </tr>\n",
       "            <tr>\n",
       "                        <th id=\"T_ee5082c6_d726_11eb_b4e6_784f438242d1level0_row1\" class=\"row_heading level0 row1\" >speaks_english</th>\n",
       "                        <td id=\"T_ee5082c6_d726_11eb_b4e6_784f438242d1row1_col0\" class=\"data row1 col0\" >0.252479</td>\n",
       "                        <td id=\"T_ee5082c6_d726_11eb_b4e6_784f438242d1row1_col1\" class=\"data row1 col1\" >1.000000</td>\n",
       "                        <td id=\"T_ee5082c6_d726_11eb_b4e6_784f438242d1row1_col2\" class=\"data row1 col2\" >-0.028415</td>\n",
       "                        <td id=\"T_ee5082c6_d726_11eb_b4e6_784f438242d1row1_col3\" class=\"data row1 col3\" >-0.009361</td>\n",
       "                        <td id=\"T_ee5082c6_d726_11eb_b4e6_784f438242d1row1_col4\" class=\"data row1 col4\" >0.030986</td>\n",
       "                        <td id=\"T_ee5082c6_d726_11eb_b4e6_784f438242d1row1_col5\" class=\"data row1 col5\" >0.057003</td>\n",
       "                        <td id=\"T_ee5082c6_d726_11eb_b4e6_784f438242d1row1_col6\" class=\"data row1 col6\" >0.099818</td>\n",
       "                        <td id=\"T_ee5082c6_d726_11eb_b4e6_784f438242d1row1_col7\" class=\"data row1 col7\" >0.054034</td>\n",
       "                        <td id=\"T_ee5082c6_d726_11eb_b4e6_784f438242d1row1_col8\" class=\"data row1 col8\" >0.022190</td>\n",
       "                        <td id=\"T_ee5082c6_d726_11eb_b4e6_784f438242d1row1_col9\" class=\"data row1 col9\" >-0.074755</td>\n",
       "                        <td id=\"T_ee5082c6_d726_11eb_b4e6_784f438242d1row1_col10\" class=\"data row1 col10\" >-0.066734</td>\n",
       "            </tr>\n",
       "            <tr>\n",
       "                        <th id=\"T_ee5082c6_d726_11eb_b4e6_784f438242d1level0_row2\" class=\"row_heading level0 row2\" >gender_tuned</th>\n",
       "                        <td id=\"T_ee5082c6_d726_11eb_b4e6_784f438242d1row2_col0\" class=\"data row2 col0\" >-0.042109</td>\n",
       "                        <td id=\"T_ee5082c6_d726_11eb_b4e6_784f438242d1row2_col1\" class=\"data row2 col1\" >-0.028415</td>\n",
       "                        <td id=\"T_ee5082c6_d726_11eb_b4e6_784f438242d1row2_col2\" class=\"data row2 col2\" >1.000000</td>\n",
       "                        <td id=\"T_ee5082c6_d726_11eb_b4e6_784f438242d1row2_col3\" class=\"data row2 col3\" >-0.053436</td>\n",
       "                        <td id=\"T_ee5082c6_d726_11eb_b4e6_784f438242d1row2_col4\" class=\"data row2 col4\" >-0.033240</td>\n",
       "                        <td id=\"T_ee5082c6_d726_11eb_b4e6_784f438242d1row2_col5\" class=\"data row2 col5\" >-0.072128</td>\n",
       "                        <td id=\"T_ee5082c6_d726_11eb_b4e6_784f438242d1row2_col6\" class=\"data row2 col6\" >0.000194</td>\n",
       "                        <td id=\"T_ee5082c6_d726_11eb_b4e6_784f438242d1row2_col7\" class=\"data row2 col7\" >0.064799</td>\n",
       "                        <td id=\"T_ee5082c6_d726_11eb_b4e6_784f438242d1row2_col8\" class=\"data row2 col8\" >0.022665</td>\n",
       "                        <td id=\"T_ee5082c6_d726_11eb_b4e6_784f438242d1row2_col9\" class=\"data row2 col9\" >0.007379</td>\n",
       "                        <td id=\"T_ee5082c6_d726_11eb_b4e6_784f438242d1row2_col10\" class=\"data row2 col10\" >0.006949</td>\n",
       "            </tr>\n",
       "            <tr>\n",
       "                        <th id=\"T_ee5082c6_d726_11eb_b4e6_784f438242d1level0_row3\" class=\"row_heading level0 row3\" >income_level</th>\n",
       "                        <td id=\"T_ee5082c6_d726_11eb_b4e6_784f438242d1row3_col0\" class=\"data row3 col0\" >-0.004835</td>\n",
       "                        <td id=\"T_ee5082c6_d726_11eb_b4e6_784f438242d1row3_col1\" class=\"data row3 col1\" >-0.009361</td>\n",
       "                        <td id=\"T_ee5082c6_d726_11eb_b4e6_784f438242d1row3_col2\" class=\"data row3 col2\" >-0.053436</td>\n",
       "                        <td id=\"T_ee5082c6_d726_11eb_b4e6_784f438242d1row3_col3\" class=\"data row3 col3\" >1.000000</td>\n",
       "                        <td id=\"T_ee5082c6_d726_11eb_b4e6_784f438242d1row3_col4\" class=\"data row3 col4\" >-0.097081</td>\n",
       "                        <td id=\"T_ee5082c6_d726_11eb_b4e6_784f438242d1row3_col5\" class=\"data row3 col5\" >-0.111127</td>\n",
       "                        <td id=\"T_ee5082c6_d726_11eb_b4e6_784f438242d1row3_col6\" class=\"data row3 col6\" >-0.039037</td>\n",
       "                        <td id=\"T_ee5082c6_d726_11eb_b4e6_784f438242d1row3_col7\" class=\"data row3 col7\" >0.391160</td>\n",
       "                        <td id=\"T_ee5082c6_d726_11eb_b4e6_784f438242d1row3_col8\" class=\"data row3 col8\" >-0.009338</td>\n",
       "                        <td id=\"T_ee5082c6_d726_11eb_b4e6_784f438242d1row3_col9\" class=\"data row3 col9\" >0.022569</td>\n",
       "                        <td id=\"T_ee5082c6_d726_11eb_b4e6_784f438242d1row3_col10\" class=\"data row3 col10\" >0.059314</td>\n",
       "            </tr>\n",
       "            <tr>\n",
       "                        <th id=\"T_ee5082c6_d726_11eb_b4e6_784f438242d1level0_row4\" class=\"row_heading level0 row4\" >num_teaches</th>\n",
       "                        <td id=\"T_ee5082c6_d726_11eb_b4e6_784f438242d1row4_col0\" class=\"data row4 col0\" >0.404614</td>\n",
       "                        <td id=\"T_ee5082c6_d726_11eb_b4e6_784f438242d1row4_col1\" class=\"data row4 col1\" >0.030986</td>\n",
       "                        <td id=\"T_ee5082c6_d726_11eb_b4e6_784f438242d1row4_col2\" class=\"data row4 col2\" >-0.033240</td>\n",
       "                        <td id=\"T_ee5082c6_d726_11eb_b4e6_784f438242d1row4_col3\" class=\"data row4 col3\" >-0.097081</td>\n",
       "                        <td id=\"T_ee5082c6_d726_11eb_b4e6_784f438242d1row4_col4\" class=\"data row4 col4\" >1.000000</td>\n",
       "                        <td id=\"T_ee5082c6_d726_11eb_b4e6_784f438242d1row4_col5\" class=\"data row4 col5\" >0.313882</td>\n",
       "                        <td id=\"T_ee5082c6_d726_11eb_b4e6_784f438242d1row4_col6\" class=\"data row4 col6\" >0.146578</td>\n",
       "                        <td id=\"T_ee5082c6_d726_11eb_b4e6_784f438242d1row4_col7\" class=\"data row4 col7\" >0.058034</td>\n",
       "                        <td id=\"T_ee5082c6_d726_11eb_b4e6_784f438242d1row4_col8\" class=\"data row4 col8\" >0.004962</td>\n",
       "                        <td id=\"T_ee5082c6_d726_11eb_b4e6_784f438242d1row4_col9\" class=\"data row4 col9\" >-0.026232</td>\n",
       "                        <td id=\"T_ee5082c6_d726_11eb_b4e6_784f438242d1row4_col10\" class=\"data row4 col10\" >0.010280</td>\n",
       "            </tr>\n",
       "            <tr>\n",
       "                        <th id=\"T_ee5082c6_d726_11eb_b4e6_784f438242d1level0_row5\" class=\"row_heading level0 row5\" >num_ratings</th>\n",
       "                        <td id=\"T_ee5082c6_d726_11eb_b4e6_784f438242d1row5_col0\" class=\"data row5 col0\" >0.111718</td>\n",
       "                        <td id=\"T_ee5082c6_d726_11eb_b4e6_784f438242d1row5_col1\" class=\"data row5 col1\" >0.057003</td>\n",
       "                        <td id=\"T_ee5082c6_d726_11eb_b4e6_784f438242d1row5_col2\" class=\"data row5 col2\" >-0.072128</td>\n",
       "                        <td id=\"T_ee5082c6_d726_11eb_b4e6_784f438242d1row5_col3\" class=\"data row5 col3\" >-0.111127</td>\n",
       "                        <td id=\"T_ee5082c6_d726_11eb_b4e6_784f438242d1row5_col4\" class=\"data row5 col4\" >0.313882</td>\n",
       "                        <td id=\"T_ee5082c6_d726_11eb_b4e6_784f438242d1row5_col5\" class=\"data row5 col5\" >1.000000</td>\n",
       "                        <td id=\"T_ee5082c6_d726_11eb_b4e6_784f438242d1row5_col6\" class=\"data row5 col6\" >0.341493</td>\n",
       "                        <td id=\"T_ee5082c6_d726_11eb_b4e6_784f438242d1row5_col7\" class=\"data row5 col7\" >0.104134</td>\n",
       "                        <td id=\"T_ee5082c6_d726_11eb_b4e6_784f438242d1row5_col8\" class=\"data row5 col8\" >0.090874</td>\n",
       "                        <td id=\"T_ee5082c6_d726_11eb_b4e6_784f438242d1row5_col9\" class=\"data row5 col9\" >-0.024742</td>\n",
       "                        <td id=\"T_ee5082c6_d726_11eb_b4e6_784f438242d1row5_col10\" class=\"data row5 col10\" >-0.056031</td>\n",
       "            </tr>\n",
       "            <tr>\n",
       "                        <th id=\"T_ee5082c6_d726_11eb_b4e6_784f438242d1level0_row6\" class=\"row_heading level0 row6\" >avg_rating</th>\n",
       "                        <td id=\"T_ee5082c6_d726_11eb_b4e6_784f438242d1row6_col0\" class=\"data row6 col0\" >0.096309</td>\n",
       "                        <td id=\"T_ee5082c6_d726_11eb_b4e6_784f438242d1row6_col1\" class=\"data row6 col1\" >0.099818</td>\n",
       "                        <td id=\"T_ee5082c6_d726_11eb_b4e6_784f438242d1row6_col2\" class=\"data row6 col2\" >0.000194</td>\n",
       "                        <td id=\"T_ee5082c6_d726_11eb_b4e6_784f438242d1row6_col3\" class=\"data row6 col3\" >-0.039037</td>\n",
       "                        <td id=\"T_ee5082c6_d726_11eb_b4e6_784f438242d1row6_col4\" class=\"data row6 col4\" >0.146578</td>\n",
       "                        <td id=\"T_ee5082c6_d726_11eb_b4e6_784f438242d1row6_col5\" class=\"data row6 col5\" >0.341493</td>\n",
       "                        <td id=\"T_ee5082c6_d726_11eb_b4e6_784f438242d1row6_col6\" class=\"data row6 col6\" >1.000000</td>\n",
       "                        <td id=\"T_ee5082c6_d726_11eb_b4e6_784f438242d1row6_col7\" class=\"data row6 col7\" >0.097595</td>\n",
       "                        <td id=\"T_ee5082c6_d726_11eb_b4e6_784f438242d1row6_col8\" class=\"data row6 col8\" >0.054039</td>\n",
       "                        <td id=\"T_ee5082c6_d726_11eb_b4e6_784f438242d1row6_col9\" class=\"data row6 col9\" >-0.022905</td>\n",
       "                        <td id=\"T_ee5082c6_d726_11eb_b4e6_784f438242d1row6_col10\" class=\"data row6 col10\" >-0.122953</td>\n",
       "            </tr>\n",
       "            <tr>\n",
       "                        <th id=\"T_ee5082c6_d726_11eb_b4e6_784f438242d1level0_row7\" class=\"row_heading level0 row7\" >price</th>\n",
       "                        <td id=\"T_ee5082c6_d726_11eb_b4e6_784f438242d1row7_col0\" class=\"data row7 col0\" >0.123420</td>\n",
       "                        <td id=\"T_ee5082c6_d726_11eb_b4e6_784f438242d1row7_col1\" class=\"data row7 col1\" >0.054034</td>\n",
       "                        <td id=\"T_ee5082c6_d726_11eb_b4e6_784f438242d1row7_col2\" class=\"data row7 col2\" >0.064799</td>\n",
       "                        <td id=\"T_ee5082c6_d726_11eb_b4e6_784f438242d1row7_col3\" class=\"data row7 col3\" >0.391160</td>\n",
       "                        <td id=\"T_ee5082c6_d726_11eb_b4e6_784f438242d1row7_col4\" class=\"data row7 col4\" >0.058034</td>\n",
       "                        <td id=\"T_ee5082c6_d726_11eb_b4e6_784f438242d1row7_col5\" class=\"data row7 col5\" >0.104134</td>\n",
       "                        <td id=\"T_ee5082c6_d726_11eb_b4e6_784f438242d1row7_col6\" class=\"data row7 col6\" >0.097595</td>\n",
       "                        <td id=\"T_ee5082c6_d726_11eb_b4e6_784f438242d1row7_col7\" class=\"data row7 col7\" >1.000000</td>\n",
       "                        <td id=\"T_ee5082c6_d726_11eb_b4e6_784f438242d1row7_col8\" class=\"data row7 col8\" >0.059106</td>\n",
       "                        <td id=\"T_ee5082c6_d726_11eb_b4e6_784f438242d1row7_col9\" class=\"data row7 col9\" >-0.022153</td>\n",
       "                        <td id=\"T_ee5082c6_d726_11eb_b4e6_784f438242d1row7_col10\" class=\"data row7 col10\" >-0.046609</td>\n",
       "            </tr>\n",
       "            <tr>\n",
       "                        <th id=\"T_ee5082c6_d726_11eb_b4e6_784f438242d1level0_row8\" class=\"row_heading level0 row8\" >is_featured</th>\n",
       "                        <td id=\"T_ee5082c6_d726_11eb_b4e6_784f438242d1row8_col0\" class=\"data row8 col0\" >0.032918</td>\n",
       "                        <td id=\"T_ee5082c6_d726_11eb_b4e6_784f438242d1row8_col1\" class=\"data row8 col1\" >0.022190</td>\n",
       "                        <td id=\"T_ee5082c6_d726_11eb_b4e6_784f438242d1row8_col2\" class=\"data row8 col2\" >0.022665</td>\n",
       "                        <td id=\"T_ee5082c6_d726_11eb_b4e6_784f438242d1row8_col3\" class=\"data row8 col3\" >-0.009338</td>\n",
       "                        <td id=\"T_ee5082c6_d726_11eb_b4e6_784f438242d1row8_col4\" class=\"data row8 col4\" >0.004962</td>\n",
       "                        <td id=\"T_ee5082c6_d726_11eb_b4e6_784f438242d1row8_col5\" class=\"data row8 col5\" >0.090874</td>\n",
       "                        <td id=\"T_ee5082c6_d726_11eb_b4e6_784f438242d1row8_col6\" class=\"data row8 col6\" >0.054039</td>\n",
       "                        <td id=\"T_ee5082c6_d726_11eb_b4e6_784f438242d1row8_col7\" class=\"data row8 col7\" >0.059106</td>\n",
       "                        <td id=\"T_ee5082c6_d726_11eb_b4e6_784f438242d1row8_col8\" class=\"data row8 col8\" >1.000000</td>\n",
       "                        <td id=\"T_ee5082c6_d726_11eb_b4e6_784f438242d1row8_col9\" class=\"data row8 col9\" >-0.000230</td>\n",
       "                        <td id=\"T_ee5082c6_d726_11eb_b4e6_784f438242d1row8_col10\" class=\"data row8 col10\" >-0.125017</td>\n",
       "            </tr>\n",
       "            <tr>\n",
       "                        <th id=\"T_ee5082c6_d726_11eb_b4e6_784f438242d1level0_row9\" class=\"row_heading level0 row9\" >first_letter</th>\n",
       "                        <td id=\"T_ee5082c6_d726_11eb_b4e6_784f438242d1row9_col0\" class=\"data row9 col0\" >-0.050673</td>\n",
       "                        <td id=\"T_ee5082c6_d726_11eb_b4e6_784f438242d1row9_col1\" class=\"data row9 col1\" >-0.074755</td>\n",
       "                        <td id=\"T_ee5082c6_d726_11eb_b4e6_784f438242d1row9_col2\" class=\"data row9 col2\" >0.007379</td>\n",
       "                        <td id=\"T_ee5082c6_d726_11eb_b4e6_784f438242d1row9_col3\" class=\"data row9 col3\" >0.022569</td>\n",
       "                        <td id=\"T_ee5082c6_d726_11eb_b4e6_784f438242d1row9_col4\" class=\"data row9 col4\" >-0.026232</td>\n",
       "                        <td id=\"T_ee5082c6_d726_11eb_b4e6_784f438242d1row9_col5\" class=\"data row9 col5\" >-0.024742</td>\n",
       "                        <td id=\"T_ee5082c6_d726_11eb_b4e6_784f438242d1row9_col6\" class=\"data row9 col6\" >-0.022905</td>\n",
       "                        <td id=\"T_ee5082c6_d726_11eb_b4e6_784f438242d1row9_col7\" class=\"data row9 col7\" >-0.022153</td>\n",
       "                        <td id=\"T_ee5082c6_d726_11eb_b4e6_784f438242d1row9_col8\" class=\"data row9 col8\" >-0.000230</td>\n",
       "                        <td id=\"T_ee5082c6_d726_11eb_b4e6_784f438242d1row9_col9\" class=\"data row9 col9\" >1.000000</td>\n",
       "                        <td id=\"T_ee5082c6_d726_11eb_b4e6_784f438242d1row9_col10\" class=\"data row9 col10\" >-0.036683</td>\n",
       "            </tr>\n",
       "            <tr>\n",
       "                        <th id=\"T_ee5082c6_d726_11eb_b4e6_784f438242d1level0_row10\" class=\"row_heading level0 row10\" >position</th>\n",
       "                        <td id=\"T_ee5082c6_d726_11eb_b4e6_784f438242d1row10_col0\" class=\"data row10 col0\" >-0.036586</td>\n",
       "                        <td id=\"T_ee5082c6_d726_11eb_b4e6_784f438242d1row10_col1\" class=\"data row10 col1\" >-0.066734</td>\n",
       "                        <td id=\"T_ee5082c6_d726_11eb_b4e6_784f438242d1row10_col2\" class=\"data row10 col2\" >0.006949</td>\n",
       "                        <td id=\"T_ee5082c6_d726_11eb_b4e6_784f438242d1row10_col3\" class=\"data row10 col3\" >0.059314</td>\n",
       "                        <td id=\"T_ee5082c6_d726_11eb_b4e6_784f438242d1row10_col4\" class=\"data row10 col4\" >0.010280</td>\n",
       "                        <td id=\"T_ee5082c6_d726_11eb_b4e6_784f438242d1row10_col5\" class=\"data row10 col5\" >-0.056031</td>\n",
       "                        <td id=\"T_ee5082c6_d726_11eb_b4e6_784f438242d1row10_col6\" class=\"data row10 col6\" >-0.122953</td>\n",
       "                        <td id=\"T_ee5082c6_d726_11eb_b4e6_784f438242d1row10_col7\" class=\"data row10 col7\" >-0.046609</td>\n",
       "                        <td id=\"T_ee5082c6_d726_11eb_b4e6_784f438242d1row10_col8\" class=\"data row10 col8\" >-0.125017</td>\n",
       "                        <td id=\"T_ee5082c6_d726_11eb_b4e6_784f438242d1row10_col9\" class=\"data row10 col9\" >-0.036683</td>\n",
       "                        <td id=\"T_ee5082c6_d726_11eb_b4e6_784f438242d1row10_col10\" class=\"data row10 col10\" >1.000000</td>\n",
       "            </tr>\n",
       "    </tbody></table>"
      ],
      "text/plain": [
       "<pandas.io.formats.style.Styler at 0x7ffddcb0d400>"
      ]
     },
     "execution_count": 12,
     "metadata": {},
     "output_type": "execute_result"
    }
   ],
   "source": [
    "import matplotlib.pyplot as plt\n",
    "\n",
    "preply.corr().style.background_gradient(cmap='coolwarm')"
   ]
  },
  {
   "cell_type": "code",
   "execution_count": 67,
   "metadata": {},
   "outputs": [
    {
     "data": {
      "text/plain": [
       "array([[ 2.  ,  1.  ,  1.  , ...,  4.9 , 21.  ,  0.72],\n",
       "       [ 2.  ,  1.  ,  0.  , ...,  0.  , 11.  ,  0.36],\n",
       "       [ 2.  ,  1.  ,  0.  , ...,  5.  , 13.  ,  0.6 ],\n",
       "       ...,\n",
       "       [ 2.  ,  1.  ,  1.  , ...,  0.  , 17.  ,  0.84],\n",
       "       [ 2.  ,  1.  ,  0.  , ...,  5.  ,  8.  ,  0.48],\n",
       "       [ 2.  ,  1.  ,  1.  , ...,  0.  , 13.  ,  0.12]])"
      ]
     },
     "execution_count": 67,
     "metadata": {},
     "output_type": "execute_result"
    }
   ],
   "source": [
    "X"
   ]
  },
  {
   "cell_type": "code",
   "execution_count": 68,
   "metadata": {},
   "outputs": [
    {
     "data": {
      "text/plain": [
       "array([  1,   1,   1, ..., 927, 928, 929])"
      ]
     },
     "execution_count": 68,
     "metadata": {},
     "output_type": "execute_result"
    }
   ],
   "source": [
    "y"
   ]
  },
  {
   "cell_type": "code",
   "execution_count": 69,
   "metadata": {},
   "outputs": [],
   "source": [
    "from sklearn.model_selection import train_test_split\n",
    "X_train, X_test, y_train, y_test = train_test_split(X, y, test_size=0.2, random_state=42)"
   ]
  },
  {
   "cell_type": "code",
   "execution_count": 70,
   "metadata": {},
   "outputs": [],
   "source": [
    "from sklearn.linear_model import LinearRegression\n",
    "lin_reg = LinearRegression().fit(X_train, y_train)"
   ]
  },
  {
   "cell_type": "code",
   "execution_count": 71,
   "metadata": {},
   "outputs": [],
   "source": [
    "import seaborn as sns\n",
    "def plot_regression(y_test, y_pred):\n",
    "    plot_df = pd.DataFrame()\n",
    "    plot_df['y_true'] = y_test\n",
    "    plot_df['y_pred'] = y_pred\n",
    "    sns.lmplot(x='y_true',y='y_pred', data=plot_df, fit_reg=True)"
   ]
  },
  {
   "cell_type": "code",
   "execution_count": 72,
   "metadata": {},
   "outputs": [],
   "source": [
    "y_hat = lin_reg.predict(X_test)"
   ]
  },
  {
   "cell_type": "code",
   "execution_count": 73,
   "metadata": {},
   "outputs": [
    {
     "data": {
      "text/plain": [
       "array([302.73846744, 293.18749514, 310.29977469])"
      ]
     },
     "execution_count": 73,
     "metadata": {},
     "output_type": "execute_result"
    }
   ],
   "source": [
    "y_hat[:3]"
   ]
  },
  {
   "cell_type": "code",
   "execution_count": 74,
   "metadata": {},
   "outputs": [
    {
     "data": {
      "image/png": "[encoded data removed]",
      "text/plain": [
       "<Figure size 360x360 with 1 Axes>"
      ]
     },
     "metadata": {
      "needs_background": "light"
     },
     "output_type": "display_data"
    }
   ],
   "source": [
    "plot_regression(y_test, y_hat)"
   ]
  },
  {
   "cell_type": "code",
   "execution_count": 75,
   "metadata": {},
   "outputs": [
    {
     "data": {
      "text/plain": [
       "0.019796622014625176"
      ]
     },
     "execution_count": 75,
     "metadata": {},
     "output_type": "execute_result"
    }
   ],
   "source": [
    "from sklearn.metrics import r2_score\n",
    "r2_score(y_test, y_hat)"
   ]
  },
  {
   "cell_type": "code",
   "execution_count": 76,
   "metadata": {},
   "outputs": [],
   "source": [
    "# XGBoost Regressor"
   ]
  },
  {
   "cell_type": "code",
   "execution_count": 77,
   "metadata": {},
   "outputs": [],
   "source": [
    "import xgboost"
   ]
  },
  {
   "cell_type": "code",
   "execution_count": 78,
   "metadata": {},
   "outputs": [],
   "source": [
    "xgb = xgboost.XGBRegressor(learning_rate=0.1,\n",
    "                 max_depth=4,\n",
    "                 n_estimators=150)"
   ]
  },
  {
   "cell_type": "code",
   "execution_count": 79,
   "metadata": {},
   "outputs": [
    {
     "data": {
      "text/plain": [
       "XGBRegressor(base_score=0.5, booster='gbtree', colsample_bylevel=1,\n",
       "             colsample_bynode=1, colsample_bytree=1, gamma=0, gpu_id=-1,\n",
       "             importance_type='gain', interaction_constraints='',\n",
       "             learning_rate=0.1, max_delta_step=0, max_depth=4,\n",
       "             min_child_weight=1, missing=nan, monotone_constraints='()',\n",
       "             n_estimators=150, n_jobs=4, num_parallel_tree=1, random_state=0,\n",
       "             reg_alpha=0, reg_lambda=1, scale_pos_weight=1, subsample=1,\n",
       "             tree_method='exact', validate_parameters=1, verbosity=None)"
      ]
     },
     "execution_count": 79,
     "metadata": {},
     "output_type": "execute_result"
    }
   ],
   "source": [
    "xgb.fit(X_train, y_train)"
   ]
  },
  {
   "cell_type": "code",
   "execution_count": 80,
   "metadata": {},
   "outputs": [],
   "source": [
    "y_hat = xgb.predict(X_test)"
   ]
  },
  {
   "cell_type": "code",
   "execution_count": 81,
   "metadata": {},
   "outputs": [
    {
     "data": {
      "text/plain": [
       "array([178.31372, 232.11061, 276.59085], dtype=float32)"
      ]
     },
     "execution_count": 81,
     "metadata": {},
     "output_type": "execute_result"
    }
   ],
   "source": [
    "y_hat[:3]"
   ]
  },
  {
   "cell_type": "code",
   "execution_count": 82,
   "metadata": {},
   "outputs": [
    {
     "data": {
      "image/png": "[encoded data removed]",
      "text/plain": [
       "<Figure size 360x360 with 1 Axes>"
      ]
     },
     "metadata": {
      "needs_background": "light"
     },
     "output_type": "display_data"
    }
   ],
   "source": [
    "plot_regression(y_test, y_hat)"
   ]
  },
  {
   "cell_type": "code",
   "execution_count": 45,
   "metadata": {},
   "outputs": [
    {
     "data": {
      "text/plain": [
       "-0.07252332811086748"
      ]
     },
     "execution_count": 45,
     "metadata": {},
     "output_type": "execute_result"
    }
   ],
   "source": [
    "from sklearn.metrics import r2_score\n",
    "r2_score(y_test, y_hat)"
   ]
  },
  {
   "cell_type": "code",
   "execution_count": null,
   "metadata": {},
   "outputs": [],
   "source": []
  }
 ],
 "metadata": {
  "kernelspec": {
   "display_name": "Python 3",
   "language": "python",
   "name": "python3"
  },
  "language_info": {
   "codemirror_mode": {
    "name": "ipython",
    "version": 3
   },
   "file_extension": ".py",
   "mimetype": "text/x-python",
   "name": "python",
   "nbconvert_exporter": "python",
   "pygments_lexer": "ipython3",
   "version": "3.8.5"
  }
 },
 "nbformat": 4,
 "nbformat_minor": 4
}
